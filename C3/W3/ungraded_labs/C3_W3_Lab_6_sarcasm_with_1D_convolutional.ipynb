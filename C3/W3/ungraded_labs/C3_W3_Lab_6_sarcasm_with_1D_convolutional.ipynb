{
 "cells": [
  {
   "cell_type": "markdown",
   "metadata": {
    "id": "aTYUAzZjesvr"
   },
   "source": [
    "<a href=\"https://colab.research.google.com/github/https-deeplearning-ai/tensorflow-1-public/blob/master/C3/W3/ungraded_labs/C3_W3_Lab_6_sarcasm_with_1D_convolutional.ipynb\" target=\"_parent\"><img src=\"https://colab.research.google.com/assets/colab-badge.svg\" alt=\"Open In Colab\"/></a>"
   ]
  },
  {
   "cell_type": "markdown",
   "metadata": {
    "id": "YEdilk144fzb"
   },
   "source": [
    "# Ungraded Lab: Training a Sarcasm Detection Model using a Convolution Layer\n",
    "\n",
    "You will be doing the same steps here as the previous lab but will be using a convolution layer instead. As usual, try tweaking the parameters and observe how it affects the results. \n"
   ]
  },
  {
   "cell_type": "code",
   "execution_count": 1,
   "metadata": {
    "colab": {
     "base_uri": "https://localhost:8080/"
    },
    "id": "0pFSHXGCesvv",
    "outputId": "bc67f0db-c86e-4515-e44f-4f7b11ab19ad"
   },
   "outputs": [
    {
     "name": "stdout",
     "output_type": "stream",
     "text": [
      "Reading package lists... Done\n",
      "Building dependency tree       \n",
      "Reading state information... Done\n",
      "The following package was automatically installed and is no longer required:\n",
      "  libnvidia-common-460\n",
      "Use 'apt autoremove' to remove it.\n",
      "The following packages will be REMOVED:\n",
      "  libcudnn8-dev\n",
      "The following held packages will be changed:\n",
      "  libcudnn8\n",
      "The following packages will be upgraded:\n",
      "  libcudnn8\n",
      "1 upgraded, 0 newly installed, 1 to remove and 27 not upgraded.\n",
      "Need to get 420 MB of archives.\n",
      "After this operation, 1,622 MB disk space will be freed.\n",
      "Get:1 https://developer.download.nvidia.com/compute/cuda/repos/ubuntu1804/x86_64  libcudnn8 8.4.1.50-1+cuda11.6 [420 MB]\n",
      "Fetched 420 MB in 16s (26.0 MB/s)\n",
      "(Reading database ... 123942 files and directories currently installed.)\n",
      "Removing libcudnn8-dev (8.1.1.33-1+cuda11.2) ...\n",
      "update-alternatives: removing manually selected alternative - switching libcudnn to auto mode\n",
      "(Reading database ... 123919 files and directories currently installed.)\n",
      "Preparing to unpack .../libcudnn8_8.4.1.50-1+cuda11.6_amd64.deb ...\n",
      "Unpacking libcudnn8 (8.4.1.50-1+cuda11.6) over (8.1.1.33-1+cuda11.2) ...\n",
      "Setting up libcudnn8 (8.4.1.50-1+cuda11.6) ...\n"
     ]
    }
   ],
   "source": [
    "# Install this package to use Colab's GPU for training\n",
    "!apt install --allow-change-held-packages libcudnn8=8.4.1.50-1+cuda11.6"
   ]
  },
  {
   "cell_type": "markdown",
   "metadata": {
    "id": "pmokcpHc5u1R"
   },
   "source": [
    "## Download the Dataset"
   ]
  },
  {
   "cell_type": "code",
   "execution_count": 2,
   "metadata": {
    "colab": {
     "base_uri": "https://localhost:8080/"
    },
    "id": "dxezdGoV29Yz",
    "outputId": "5415b97c-69ec-4ced-e684-0336c16c9fc8"
   },
   "outputs": [
    {
     "name": "stdout",
     "output_type": "stream",
     "text": [
      "--2022-10-28 21:25:49--  https://storage.googleapis.com/tensorflow-1-public/course3/sarcasm.json\n",
      "Resolving storage.googleapis.com (storage.googleapis.com)... 142.250.107.128, 173.194.202.128, 74.125.20.128, ...\n",
      "Connecting to storage.googleapis.com (storage.googleapis.com)|142.250.107.128|:443... connected.\n",
      "HTTP request sent, awaiting response... 200 OK\n",
      "Length: 5643545 (5.4M) [application/json]\n",
      "Saving to: ‘data/sarcasm.json’\n",
      "\n",
      "sarcasm.json        100%[===================>]   5.38M  --.-KB/s    in 0.1s    \n",
      "\n",
      "2022-10-28 21:25:49 (46.1 MB/s) - ‘data/sarcasm.json’ saved [5643545/5643545]\n",
      "\n"
     ]
    }
   ],
   "source": [
    "# Download the dataset\n",
    "!wget -P data/ https://storage.googleapis.com/tensorflow-1-public/course3/sarcasm.json"
   ]
  },
  {
   "cell_type": "code",
   "execution_count": 3,
   "metadata": {
    "id": "BTcGA2Po2_nN"
   },
   "outputs": [],
   "source": [
    "import json\n",
    "\n",
    "# Load the JSON file\n",
    "with open(\"./data/sarcasm.json\", \"r\") as f:\n",
    "    datastore = json.load(f)\n",
    "\n",
    "# Initialize the lists\n",
    "sentences = []\n",
    "labels = []\n",
    "\n",
    "# Collect sentences and labels into the lists\n",
    "for item in datastore:\n",
    "    sentences.append(item[\"headline\"])\n",
    "    labels.append(item[\"is_sarcastic\"])"
   ]
  },
  {
   "cell_type": "markdown",
   "metadata": {
    "id": "F2zXSds45s2P"
   },
   "source": [
    "## Split the Dataset"
   ]
  },
  {
   "cell_type": "code",
   "execution_count": 4,
   "metadata": {
    "id": "baDwTn9S3ENB"
   },
   "outputs": [],
   "source": [
    "training_size = 20000\n",
    "\n",
    "# Split the sentences\n",
    "training_sentences = sentences[0:training_size]\n",
    "testing_sentences = sentences[training_size:]\n",
    "\n",
    "# Split the labels\n",
    "training_labels = labels[0:training_size]\n",
    "testing_labels = labels[training_size:]"
   ]
  },
  {
   "cell_type": "markdown",
   "metadata": {
    "id": "NdpLY-or5pTP"
   },
   "source": [
    "## Data preprocessing"
   ]
  },
  {
   "cell_type": "code",
   "execution_count": 17,
   "metadata": {
    "id": "RHjZR4oi3LOq"
   },
   "outputs": [],
   "source": [
    "import numpy as np\n",
    "from tensorflow.keras.preprocessing.text import Tokenizer\n",
    "from tensorflow.keras.preprocessing.sequence import pad_sequences\n",
    "\n",
    "vocab_size = 10000\n",
    "max_length = 120\n",
    "trunc_type = \"post\"\n",
    "padding_type = \"post\"\n",
    "oov_tok = \"<OOV>\"\n",
    "\n",
    "# Initialize the Tokenizer class\n",
    "tokenizer = Tokenizer(num_words=vocab_size, oov_token=oov_tok)\n",
    "\n",
    "# Generate the word index dictionary\n",
    "tokenizer.fit_on_texts(training_sentences)\n",
    "word_index = tokenizer.word_index\n",
    "\n",
    "# Generate and pad the training sequences\n",
    "training_sequences = tokenizer.texts_to_sequences(training_sentences)\n",
    "training_padded = pad_sequences(\n",
    "    training_sequences, maxlen=max_length, padding=padding_type, truncating=trunc_type\n",
    ")\n",
    "\n",
    "# Generate and pad the testing sequences\n",
    "testing_sequences = tokenizer.texts_to_sequences(testing_sentences)\n",
    "testing_padded = pad_sequences(\n",
    "    testing_sequences, maxlen=max_length, padding=padding_type, truncating=trunc_type\n",
    ")\n",
    "\n",
    "# Convert the labels lists into numpy arrays\n",
    "training_labels = np.array(training_labels)\n",
    "testing_labels = np.array(testing_labels)"
   ]
  },
  {
   "cell_type": "markdown",
   "metadata": {
    "id": "HQBjPv_A5m1x"
   },
   "source": [
    "## Build and Compile the Model"
   ]
  },
  {
   "cell_type": "code",
   "execution_count": 18,
   "metadata": {
    "colab": {
     "base_uri": "https://localhost:8080/"
    },
    "id": "jGwXGIXvFhXW",
    "outputId": "ea1f9379-aac4-4e08-bce7-58b522bc5b6e"
   },
   "outputs": [
    {
     "name": "stdout",
     "output_type": "stream",
     "text": [
      "Model: \"sequential_5\"\n",
      "_________________________________________________________________\n",
      " Layer (type)                Output Shape              Param #   \n",
      "=================================================================\n",
      " embedding_5 (Embedding)     (None, 120, 16)           160000    \n",
      "                                                                 \n",
      " conv1d_6 (Conv1D)           (None, 116, 128)          10368     \n",
      "                                                                 \n",
      " global_average_pooling1d_5   (None, 128)              0         \n",
      " (GlobalAveragePooling1D)                                        \n",
      "                                                                 \n",
      " dense_10 (Dense)            (None, 6)                 774       \n",
      "                                                                 \n",
      " dense_11 (Dense)            (None, 1)                 7         \n",
      "                                                                 \n",
      "=================================================================\n",
      "Total params: 171,149\n",
      "Trainable params: 171,149\n",
      "Non-trainable params: 0\n",
      "_________________________________________________________________\n"
     ]
    }
   ],
   "source": [
    "import tensorflow as tf\n",
    "\n",
    "# Parameters\n",
    "embedding_dim = 16\n",
    "filters = 128\n",
    "kernel_size = 5\n",
    "dense_dim = 6\n",
    "\n",
    "# Model Definition with Conv1D\n",
    "model_conv = tf.keras.Sequential(\n",
    "    [\n",
    "        tf.keras.layers.Embedding(input_dim=vocab_size, output_dim=embedding_dim, input_length=max_length),\n",
    "        tf.keras.layers.Conv1D(filters, kernel_size, activation=\"relu\"),\n",
    "        # tf.keras.layers.GlobalMaxPooling1D(),  # doesnt perform as well\n",
    "        tf.keras.layers.GlobalAveragePooling1D(),\n",
    "        # tf.keras.layers.Dropout(0.2),\n",
    "        tf.keras.layers.Dense(dense_dim, activation=\"relu\"),\n",
    "        tf.keras.layers.Dense(1, activation=\"sigmoid\"),\n",
    "    ]\n",
    ")\n",
    "\n",
    "# Set the training parameters\n",
    "model_conv.compile(loss=\"binary_crossentropy\", optimizer=\"adam\", metrics=[\"accuracy\"])\n",
    "\n",
    "# Print the model summary\n",
    "model_conv.summary()"
   ]
  },
  {
   "cell_type": "markdown",
   "metadata": {
    "id": "PcXC5QG45kM7"
   },
   "source": [
    "## Train the Model"
   ]
  },
  {
   "cell_type": "code",
   "execution_count": 19,
   "metadata": {
    "colab": {
     "base_uri": "https://localhost:8080/"
    },
    "id": "oB6C55FO3z3q",
    "outputId": "a3871eb7-bbaf-4c48-e975-3a4106b00e9a"
   },
   "outputs": [
    {
     "name": "stdout",
     "output_type": "stream",
     "text": [
      "Epoch 1/20\n",
      "40/40 [==============================] - 7s 153ms/step - loss: 0.6868 - accuracy: 0.5548 - val_loss: 0.6841 - val_accuracy: 0.5633\n",
      "Epoch 2/20\n",
      "40/40 [==============================] - 6s 149ms/step - loss: 0.6796 - accuracy: 0.5603 - val_loss: 0.6682 - val_accuracy: 0.5633\n",
      "Epoch 3/20\n",
      "40/40 [==============================] - 6s 148ms/step - loss: 0.6365 - accuracy: 0.5971 - val_loss: 0.6070 - val_accuracy: 0.6821\n",
      "Epoch 4/20\n",
      "40/40 [==============================] - 6s 149ms/step - loss: 0.5606 - accuracy: 0.7500 - val_loss: 0.5528 - val_accuracy: 0.7725\n",
      "Epoch 5/20\n",
      "40/40 [==============================] - 9s 225ms/step - loss: 0.4941 - accuracy: 0.8220 - val_loss: 0.5234 - val_accuracy: 0.7733\n",
      "Epoch 6/20\n",
      "40/40 [==============================] - 6s 149ms/step - loss: 0.4437 - accuracy: 0.8621 - val_loss: 0.4942 - val_accuracy: 0.8110\n",
      "Epoch 7/20\n",
      "40/40 [==============================] - 6s 151ms/step - loss: 0.4061 - accuracy: 0.8906 - val_loss: 0.4847 - val_accuracy: 0.8140\n",
      "Epoch 8/20\n",
      "40/40 [==============================] - 6s 151ms/step - loss: 0.3763 - accuracy: 0.9090 - val_loss: 0.4836 - val_accuracy: 0.8164\n",
      "Epoch 9/20\n",
      "40/40 [==============================] - 6s 150ms/step - loss: 0.3506 - accuracy: 0.9229 - val_loss: 0.4910 - val_accuracy: 0.8165\n",
      "Epoch 10/20\n",
      "40/40 [==============================] - 6s 152ms/step - loss: 0.3290 - accuracy: 0.9334 - val_loss: 0.4791 - val_accuracy: 0.8177\n",
      "Epoch 11/20\n",
      "40/40 [==============================] - 6s 149ms/step - loss: 0.3111 - accuracy: 0.9409 - val_loss: 0.5068 - val_accuracy: 0.8155\n",
      "Epoch 12/20\n",
      "40/40 [==============================] - 6s 150ms/step - loss: 0.2946 - accuracy: 0.9476 - val_loss: 0.5084 - val_accuracy: 0.8155\n",
      "Epoch 13/20\n",
      "40/40 [==============================] - 6s 150ms/step - loss: 0.2805 - accuracy: 0.9522 - val_loss: 0.5039 - val_accuracy: 0.8192\n",
      "Epoch 14/20\n",
      "40/40 [==============================] - 6s 148ms/step - loss: 0.2679 - accuracy: 0.9564 - val_loss: 0.5587 - val_accuracy: 0.8128\n",
      "Epoch 15/20\n",
      "40/40 [==============================] - 6s 149ms/step - loss: 0.2564 - accuracy: 0.9594 - val_loss: 0.5361 - val_accuracy: 0.8176\n",
      "Epoch 16/20\n",
      "40/40 [==============================] - 6s 148ms/step - loss: 0.2446 - accuracy: 0.9622 - val_loss: 0.5426 - val_accuracy: 0.8179\n",
      "Epoch 17/20\n",
      "40/40 [==============================] - 6s 149ms/step - loss: 0.2352 - accuracy: 0.9646 - val_loss: 0.5381 - val_accuracy: 0.8168\n",
      "Epoch 18/20\n",
      "40/40 [==============================] - 6s 149ms/step - loss: 0.2257 - accuracy: 0.9683 - val_loss: 0.5707 - val_accuracy: 0.8167\n",
      "Epoch 19/20\n",
      "40/40 [==============================] - 6s 148ms/step - loss: 0.2167 - accuracy: 0.9702 - val_loss: 0.5672 - val_accuracy: 0.8144\n",
      "Epoch 20/20\n",
      "40/40 [==============================] - 7s 167ms/step - loss: 0.2122 - accuracy: 0.9699 - val_loss: 0.5651 - val_accuracy: 0.8143\n"
     ]
    }
   ],
   "source": [
    "NUM_EPOCHS = 20\n",
    "BATCH_SIZE = 512\n",
    "\n",
    "# Train the model\n",
    "history_conv = model_conv.fit(\n",
    "    training_padded,\n",
    "    training_labels,\n",
    "    epochs=NUM_EPOCHS,\n",
    "    batch_size=BATCH_SIZE,\n",
    "    validation_data=(testing_padded, testing_labels),\n",
    ")"
   ]
  },
  {
   "cell_type": "code",
   "execution_count": 20,
   "metadata": {
    "colab": {
     "base_uri": "https://localhost:8080/",
     "height": 541
    },
    "id": "g9DC6dmLF8DC",
    "outputId": "2d06c67b-ec19-4cb9-d605-d9b3d9d8694a"
   },
   "outputs": [
    {
     "data": {
      "image/png": "[encoded data removed]",
      "text/plain": [
       "<Figure size 432x288 with 1 Axes>"
      ]
     },
     "metadata": {
      "needs_background": "light"
     },
     "output_type": "display_data"
    },
    {
     "data": {
      "image/png": "[encoded data removed]",
      "text/plain": [
       "<Figure size 432x288 with 1 Axes>"
      ]
     },
     "metadata": {
      "needs_background": "light"
     },
     "output_type": "display_data"
    }
   ],
   "source": [
    "import matplotlib.pyplot as plt\n",
    "\n",
    "# Plot Utility\n",
    "def plot_graphs(history, string):\n",
    "    plt.plot(history.history[string])\n",
    "    plt.plot(history.history[\"val_\" + string])\n",
    "    plt.xlabel(\"Epochs\")\n",
    "    plt.ylabel(string)\n",
    "    plt.legend([string, \"val_\" + string])\n",
    "    plt.show()\n",
    "\n",
    "\n",
    "# Plot the accuracy and loss history\n",
    "plot_graphs(history_conv, \"accuracy\")\n",
    "plot_graphs(history_conv, \"loss\")"
   ]
  },
  {
   "cell_type": "code",
   "execution_count": null,
   "metadata": {
    "id": "JCUU3b8If_OA"
   },
   "outputs": [],
   "source": []
  }
 ],
 "metadata": {
  "colab": {
   "collapsed_sections": [],
   "provenance": []
  },
  "gpuClass": "standard",
  "kernelspec": {
   "display_name": "Python 3 (ipykernel)",
   "language": "python",
   "name": "python3"
  },
  "language_info": {
   "codemirror_mode": {
    "name": "ipython",
    "version": 3
   },
   "file_extension": ".py",
   "mimetype": "text/x-python",
   "name": "python",
   "nbconvert_exporter": "python",
   "pygments_lexer": "ipython3",
   "version": "3.8.10"
  }
 },
 "nbformat": 4,
 "nbformat_minor": 4
}
