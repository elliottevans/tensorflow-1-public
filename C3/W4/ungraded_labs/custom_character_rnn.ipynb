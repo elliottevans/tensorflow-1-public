{
 "cells": [
  {
   "cell_type": "markdown",
   "id": "60e17675-a3a9-49b2-b441-581691bc5941",
   "metadata": {},
   "source": [
    "# Character RNN Model"
   ]
  },
  {
   "cell_type": "code",
   "execution_count": 533,
   "id": "bb081106-5605-4d5f-83d5-34d46bce3c71",
   "metadata": {},
   "outputs": [],
   "source": [
    "import tensorflow as tf\n",
    "import numpy as np\n",
    "import pandas as pd\n",
    "import matplotlib\n",
    "from matplotlib import pyplot as plt\n",
    "from typing import List\n",
    "\n",
    "from tensorflow.keras.preprocessing.sequence import pad_sequences\n",
    "from tensorflow.keras.layers import Embedding, LSTM, Dense, Bidirectional\n",
    "from tensorflow.keras.preprocessing.text import Tokenizer\n",
    "from tensorflow.keras.models import Sequential\n",
    "from tensorflow.keras.optimizers import Adam"
   ]
  },
  {
   "cell_type": "markdown",
   "id": "ff57c5ca-92f8-4045-82c8-d8845ab7ba37",
   "metadata": {},
   "source": [
    "## Read data"
   ]
  },
  {
   "cell_type": "code",
   "execution_count": 536,
   "id": "d30de2d7-33d1-4f24-8c0a-8d1d16c46568",
   "metadata": {},
   "outputs": [],
   "source": [
    "# script_df = pd.read_csv('data/seinfeld_scripts.csv')\n",
    "\n",
    "# script_subset_df = script_df[(script_df['season'] == 7) & (script_df['episode'].isin([1, 2, 3, 4, 5, 6]))]\n",
    "\n",
    "# subtext = '\\n\\n'.join(script_subset_df['character'] + ': ' + script_subset_df['dialogue'].tolist())\n",
    "\n",
    "# with open('data/seinfeld_scripts_s7_1_2_3_4_5_6.txt', \"w\") as text_file:\n",
    "#     text_file.write(subtext)"
   ]
  },
  {
   "cell_type": "code",
   "execution_count": 470,
   "id": "32f5059c-071e-4aa9-a87d-b5175a39907e",
   "metadata": {},
   "outputs": [
    {
     "name": "stdout",
     "output_type": "stream",
     "text": [
      "Length of text: 54613 characters\n"
     ]
    }
   ],
   "source": [
    "# Load the dataset\n",
    "text = open(\"./data/seinfeld_scripts_s7_1_2_3.txt\").read().lower()\n",
    "total_chars = len(text)\n",
    "print(f\"Length of text: {total_chars} characters\")"
   ]
  },
  {
   "cell_type": "code",
   "execution_count": 471,
   "id": "bd659b3e-9fad-4013-a521-355aead9c6fa",
   "metadata": {},
   "outputs": [
    {
     "name": "stdout",
     "output_type": "stream",
     "text": [
      "george: well, you got no place to go. i'll tell you what your problem is you brought your queen out too fast. what do you think? she's one of these feminists looking to get out of the house? no, the queen is old fashioned.. likes to stay home. cook. take care of her man. make sure he feels good.\n",
      "\n",
      "liz: checkmate.\n",
      "\n",
      "george: i don't think we should see each other any more.\n",
      "\n",
      "elaine: shut up! shut up! you stupid mutt.\n",
      "\n",
      "jerry: and you broke up with her 'cuz she beat you at chess? that's pretty sick.\n",
      "\n",
      "george: i don't see how i could perform sexually in a situation after something like that. i was completely emasculated. anyway, it's not the only reason.\n",
      "\n",
      "jerry: yeah, what else?\n",
      "\n",
      "george: all right. you wanna know what one of her favorite expressions is? happy, pappy?\n",
      "\n",
      "jerry: happy, pappy? what does that mean?\n",
      "\n",
      "george: like if she wants to know if i'm pleased with something, she'll say, `happy, pappy?`\n",
      "\n",
      "jerry: oh, you're `pappy`.\n",
      "\n",
      "george: i'm `pappy`.\n",
      "\n",
      "jerry: oh, i get it. why don't you just say it?\n",
      "\n",
      "george: oh, come on. what, are you kidding? george i'm much more comfortable criticizing people behind there backs. anyway, look who's talking. you just broke up with with melanie last week because she `shuushed you` while you were watching tv.\n",
      "\n",
      "jerry: hey, i got a real thing about `shushing`!\n",
      "\n",
      "george: what is this? did you ever get the feeling like you've had a haircut but you didn't have one? i'm all itchy back here.\n",
      "\n",
      "jerry: ahh.\n",
      "\n",
      "george: what?\n",
      "\n",
      "jerry: what is this? what are we doing? wh\n"
     ]
    }
   ],
   "source": [
    "# Take a look at the first 250 characters in text\n",
    "print(text[:750])"
   ]
  },
  {
   "cell_type": "markdown",
   "id": "eea209dc-8624-4cf5-91e4-28f2cf3e0b69",
   "metadata": {},
   "source": [
    "## Building the Character Vocabulary"
   ]
  },
  {
   "cell_type": "code",
   "execution_count": 472,
   "id": "436d1e84-e0fb-4d87-9b8f-9109aa1b34e8",
   "metadata": {},
   "outputs": [
    {
     "name": "stdout",
     "output_type": "stream",
     "text": [
      "char index dictionary: {' ': 1, 'e': 2, 'o': 3, 't': 4, 'a': 5, 'r': 6, 'i': 7, 'n': 8, 'h': 9, 's': 10, '\\n': 11, 'l': 12, 'y': 13, 'u': 14, 'g': 15, '.': 16, 'd': 17, 'm': 18, 'w': 19, ':': 20, 'c': 21, 'k': 22, \"'\": 23, ',': 24, 'b': 25, 'f': 26, 'p': 27, 'j': 28, '?': 29, 'v': 30, '!': 31, 'x': 32, '`': 33, '-': 34, 'z': 35, '0': 36, 'q': 37, '5': 38, '2': 39, '1': 40, '7': 41, '4': 42, '3': 43, '[': 44, ']': 45, ';': 46, '9': 47, '8': 48, '$': 49}\n",
      "distinct chars: 50\n"
     ]
    }
   ],
   "source": [
    "# Initialize the Tokenizer class\n",
    "tokenizer = Tokenizer(char_level=True)\n",
    "\n",
    "# Generate the word index dictionary\n",
    "tokenizer.fit_on_texts([text])\n",
    "\n",
    "# +1 for the padding token\n",
    "distinct_chars = len(tokenizer.word_index) + 1\n",
    "\n",
    "print(f\"char index dictionary: {tokenizer.word_index}\")\n",
    "print(f\"distinct chars: {distinct_chars}\")"
   ]
  },
  {
   "cell_type": "markdown",
   "id": "fd09b55b-1638-4167-b0fe-83a5c38bb622",
   "metadata": {},
   "source": [
    "## Preprocessing the Dataset\n",
    "\n",
    "```\n",
    "INPUT                                        LABEL\n",
    "------------------------------------------------------------------------------\n",
    "what's the deal with airplane pea    --->    hat's the deal with airplane pean \n",
    "hat's the deal with airplane pean    --->    at's the deal with airplane peanu\n",
    "at's the deal with airplane peanu    --->    t's the deal with airplane peanut\n",
    "t's the deal with airplane peanut    --->    's the deal with airplane peanuts\n",
    "```"
   ]
  },
  {
   "cell_type": "code",
   "execution_count": 473,
   "id": "85035b82-7a12-49ed-b433-1e24d8970afb",
   "metadata": {},
   "outputs": [],
   "source": [
    "def encode(text: str) -> List :\n",
    "    return tokenizer.texts_to_sequences([text])[0]\n",
    "\n",
    "encoded_text = encode(text)"
   ]
  },
  {
   "cell_type": "code",
   "execution_count": 534,
   "id": "49f9ab57-018a-4d90-8999-49e1c2e1b878",
   "metadata": {},
   "outputs": [
    {
     "name": "stdout",
     "output_type": "stream",
     "text": [
      "[15, 2, 3, 6, 15, 2, 20, 1, 19, 2, 12, 12, 24, 1, 13, 3, 14, 1, 15, 3, 4, 1, 8, 3, 1, 27, 12, 5, 21, 2, 1, 4, 3, 1, 15, 3, 16, 1, 7, 23, 12, 12, 1, 4, 2, 12, 12, 1, 13, 3, 14, 1, 19, 9, 5, 4, 1, 13, 3, 14, 6, 1, 27, 6, 3, 25, 12, 2, 18, 1, 7, 10, 1, 13, 3, 14, 1, 25, 6, 3, 14, 15, 9, 4, 1, 13, 3, 14, 6, 1, 37, 14, 2, 2, 8, 1, 3, 14, 4, 1, 4, 3, 3, 1, 26, 5, 10, 4, 16, 1, 19, 9, 5, 4, 1, 17, 3, 1, 13, 3, 14, 1, 4, 9, 7, 8, 22, 29, 1, 10, 9, 2, 23, 10, 1, 3, 8, 2, 1, 3, 26, 1, 4, 9, 2, 10, 2, 1, 26, 2, 18, 7, 8, 7, 10, 4, 10, 1, 12, 3, 3, 22, 7, 8, 15, 1, 4, 3, 1, 15, 2, 4, 1, 3, 14, 4, 1, 3, 26, 1, 4, 9, 2, 1, 9, 3, 14, 10, 2, 29, 1, 8, 3, 24, 1, 4, 9, 2, 1, 37, 14, 2, 2, 8, 1, 7, 10, 1, 3, 12, 17, 1, 26, 5, 10, 9, 7, 3, 8, 2, 17, 16, 16, 1, 12, 7, 22, 2, 10, 1, 4, 3, 1, 10, 4, 5, 13, 1, 9, 3, 18, 2, 16, 1, 21, 3, 3, 22, 16, 1, 4, 5, 22, 2, 1, 21, 5, 6, 2, 1, 3, 26, 1, 9, 2, 6, 1, 18, 5, 8, 16, 1, 18, 5, 22, 2, 1, 10, 14, 6, 2, 1, 9, 2, 1, 26, 2, 2, 12, 10, 1, 15, 3, 3, 17, 16, 11, 11, 12, 7, 35, 20, 1, 21, 9, 2, 21, 22, 18, 5, 4, 2, 16, 11, 11, 15, 2, 3, 6, 15, 2, 20, 1, 7, 1, 17, 3, 8, 23, 4, 1, 4, 9, 7, 8, 22, 1, 19, 2, 1, 10, 9, 3, 14, 12, 17, 1, 10, 2, 2, 1, 2, 5, 21, 9, 1, 3, 4, 9, 2, 6, 1, 5, 8, 13, 1, 18, 3, 6, 2, 16, 11, 11, 2, 12, 5, 7, 8, 2, 20, 1, 10, 9, 14, 4, 1, 14, 27, 31, 1, 10, 9, 14, 4, 1, 14, 27, 31, 1, 13, 3, 14, 1, 10, 4, 14, 27, 7, 17, 1, 18, 14, 4, 4, 16, 11, 11, 28, 2, 6, 6, 13, 20, 1, 5, 8, 17, 1, 13, 3, 14, 1, 25, 6, 3, 22, 2, 1, 14, 27, 1, 19, 7, 4, 9, 1, 9, 2, 6, 1, 23, 21, 14, 35, 1, 10, 9, 2, 1, 25, 2, 5, 4, 1, 13, 3, 14, 1, 5, 4, 1, 21, 9, 2, 10, 10, 29, 1, 4, 9, 5, 4, 23, 10, 1, 27, 6, 2, 4, 4, 13, 1, 10, 7, 21, 22, 16, 11, 11, 15, 2, 3, 6, 15, 2, 20, 1, 7, 1, 17, 3, 8, 23, 4, 1, 10, 2, 2, 1, 9, 3, 19, 1, 7, 1, 21, 3, 14, 12, 17, 1, 27, 2, 6, 26, 3, 6, 18, 1, 10, 2, 32, 14, 5, 12, 12, 13, 1, 7, 8, 1, 5, 1, 10, 7, 4, 14, 5, 4, 7, 3, 8, 1, 5, 26, 4, 2, 6, 1, 10, 3, 18, 2, 4, 9, 7, 8, 15, 1, 12, 7, 22, 2, 1, 4, 9, 5, 4, 16, 1, 7, 1, 19, 5, 10, 1, 21, 3, 18, 27, 12, 2, 4, 2, 12, 13, 1, 2, 18, 5, 10, 21, 14, 12, 5, 4, 2, 17, 16, 1, 5, 8, 13, 19, 5, 13, 24, 1, 7, 4, 23, 10, 1, 8, 3, 4, 1, 4, 9, 2, 1, 3, 8, 12, 13, 1, 6, 2, 5, 10, 3, 8, 16, 11, 11, 28, 2, 6, 6, 13, 20, 1, 13, 2, 5, 9, 24, 1, 19, 9, 5, 4, 1, 2, 12, 10, 2, 29, 11, 11, 15, 2, 3, 6, 15, 2, 20, 1, 5, 12, 12, 1, 6, 7, 15, 9, 4, 16, 1, 13, 3, 14, 1, 19, 5, 8, 8, 5, 1, 22, 8, 3, 19, 1, 19, 9, 5, 4, 1, 3, 8, 2, 1, 3, 26, 1, 9, 2, 6, 1, 26, 5, 30, 3, 6, 7, 4, 2, 1, 2, 32, 27, 6, 2, 10, 10, 7, 3, 8, 10]\n"
     ]
    }
   ],
   "source": [
    "# Take a look at the first 250 characters in tokens\n",
    "sample_encoded_text = encoded_text[:750]\n",
    "print(sample_encoded_text)"
   ]
  },
  {
   "cell_type": "code",
   "execution_count": 475,
   "id": "84088ba4-1637-4f99-bf76-070da39ccbd2",
   "metadata": {},
   "outputs": [],
   "source": [
    "# when char_level = True, sequences_to_texts puts spaces between characters during decoding\n",
    "def decode(\n",
    "    tokenizer: tf.keras.preprocessing.text.Tokenizer, \n",
    "    tokenized_text: List\n",
    ") -> str:\n",
    "    return ''.join([tokenizer.sequences_to_texts([[token]])[0] for token in tokenized_text])"
   ]
  },
  {
   "cell_type": "code",
   "execution_count": 535,
   "id": "4352e27b-5bdf-4a4f-8cd8-9de02877218d",
   "metadata": {},
   "outputs": [
    {
     "name": "stdout",
     "output_type": "stream",
     "text": [
      "george: well, you got no place to go. i'll tell you what your problem is you brought your queen out too fast. what do you think? she's one of these feminists looking to get out of the house? no, the queen is old fashioned.. likes to stay home. cook. take care of her man. make sure he feels good.\n",
      "\n",
      "liz: checkmate.\n",
      "\n",
      "george: i don't think we should see each other any more.\n",
      "\n",
      "elaine: shut up! shut up! you stupid mutt.\n",
      "\n",
      "jerry: and you broke up with her 'cuz she beat you at chess? that's pretty sick.\n",
      "\n",
      "george: i don't see how i could perform sexually in a situation after something like that. i was completely emasculated. anyway, it's not the only reason.\n",
      "\n",
      "jerry: yeah, what else?\n",
      "\n",
      "george: all right. you wanna know what one of her favorite expressions\n"
     ]
    }
   ],
   "source": [
    "sample_decoded_text = decode(tokenizer, sample_encoded_text[0:750])\n",
    "print(sample_decoded_text)"
   ]
  },
  {
   "cell_type": "code",
   "execution_count": 477,
   "id": "dd5e0b9f-208d-4f8d-a9a5-58efc508fe25",
   "metadata": {},
   "outputs": [],
   "source": [
    "seq_length = 100\n",
    "xs = []\n",
    "ys = []\n",
    "for i in range(0, total_chars):\n",
    "    xs.append(\n",
    "        pad_sequences([encoded_text[i:seq_length + i]], maxlen=seq_length, padding=\"pre\")[0]\n",
    "    )\n",
    "    ys.append(\n",
    "        pad_sequences([encoded_text[1 + i:seq_length + 1 + i]], maxlen=seq_length, padding=\"pre\")[0]\n",
    "    )\n",
    "    \n",
    "xs = np.array(xs)\n",
    "ys = np.array(ys)"
   ]
  },
  {
   "cell_type": "code",
   "execution_count": 478,
   "id": "9581500f-0f36-47db-ab9e-6ff9c816073b",
   "metadata": {},
   "outputs": [
    {
     "name": "stdout",
     "output_type": "stream",
     "text": [
      "xs[0]: [15  2  3  6 15  2 20  1 19  2 12 12 24  1 13  3 14  1 15  3  4  1  8  3\n",
      "  1 27 12  5 21  2  1  4  3  1 15  3 16  1  7 23 12 12  1  4  2 12 12  1\n",
      " 13  3 14  1 19  9  5  4  1 13  3 14  6  1 27  6  3 25 12  2 18  1  7 10\n",
      "  1 13  3 14  1 25  6  3 14 15  9  4  1 13  3 14  6  1 37 14  2  2  8  1\n",
      "  3 14  4  1]\n",
      "decoded xs[0]: george: well, you got no place to go. i'll tell you what your problem is you brought your queen out \n",
      "\n",
      "ys[0]: [ 2  3  6 15  2 20  1 19  2 12 12 24  1 13  3 14  1 15  3  4  1  8  3  1\n",
      " 27 12  5 21  2  1  4  3  1 15  3 16  1  7 23 12 12  1  4  2 12 12  1 13\n",
      "  3 14  1 19  9  5  4  1 13  3 14  6  1 27  6  3 25 12  2 18  1  7 10  1\n",
      " 13  3 14  1 25  6  3 14 15  9  4  1 13  3 14  6  1 37 14  2  2  8  1  3\n",
      " 14  4  1  4]\n",
      "decoded ys[0]: eorge: well, you got no place to go. i'll tell you what your problem is you brought your queen out t\n",
      "\n",
      "================================================\n",
      "\n",
      "xs[1]: [ 2  3  6 15  2 20  1 19  2 12 12 24  1 13  3 14  1 15  3  4  1  8  3  1\n",
      " 27 12  5 21  2  1  4  3  1 15  3 16  1  7 23 12 12  1  4  2 12 12  1 13\n",
      "  3 14  1 19  9  5  4  1 13  3 14  6  1 27  6  3 25 12  2 18  1  7 10  1\n",
      " 13  3 14  1 25  6  3 14 15  9  4  1 13  3 14  6  1 37 14  2  2  8  1  3\n",
      " 14  4  1  4]\n",
      "decoded xs[1]: eorge: well, you got no place to go. i'll tell you what your problem is you brought your queen out t\n",
      "\n",
      "ys[1]: [ 3  6 15  2 20  1 19  2 12 12 24  1 13  3 14  1 15  3  4  1  8  3  1 27\n",
      " 12  5 21  2  1  4  3  1 15  3 16  1  7 23 12 12  1  4  2 12 12  1 13  3\n",
      " 14  1 19  9  5  4  1 13  3 14  6  1 27  6  3 25 12  2 18  1  7 10  1 13\n",
      "  3 14  1 25  6  3 14 15  9  4  1 13  3 14  6  1 37 14  2  2  8  1  3 14\n",
      "  4  1  4  3]\n",
      "decoded ys[1]: orge: well, you got no place to go. i'll tell you what your problem is you brought your queen out to\n",
      "\n",
      "================================================\n",
      "\n"
     ]
    }
   ],
   "source": [
    "for i in range(2):\n",
    "    print(f'xs[{i}]: {xs[i]}')\n",
    "    print(f'decoded xs[{i}]: {decode(tokenizer, xs[i])}')\n",
    "    print()\n",
    "    print(f'ys[{i}]: {ys[i]}')\n",
    "    print(f'decoded ys[{i}]: {decode(tokenizer, ys[i])}')\n",
    "    print('\\n================================================\\n')"
   ]
  },
  {
   "cell_type": "markdown",
   "id": "51e630df-8d6d-4fe1-a079-bbdd039a59ab",
   "metadata": {},
   "source": [
    "## Building the model"
   ]
  },
  {
   "cell_type": "code",
   "execution_count": 504,
   "id": "150d1655-5f53-4121-b28a-49de58e1667d",
   "metadata": {},
   "outputs": [
    {
     "name": "stdout",
     "output_type": "stream",
     "text": [
      "Model: \"sequential_40\"\n",
      "_________________________________________________________________\n",
      " Layer (type)                Output Shape              Param #   \n",
      "=================================================================\n",
      " embedding_40 (Embedding)    (None, 100, 128)          6400      \n",
      "                                                                 \n",
      " bidirectional_71 (Bidirecti  (None, 100, 512)         788480    \n",
      " onal)                                                           \n",
      "                                                                 \n",
      " bidirectional_72 (Bidirecti  (None, 100, 256)         656384    \n",
      " onal)                                                           \n",
      "                                                                 \n",
      " dense_57 (Dense)            (None, 100, 128)          32896     \n",
      "                                                                 \n",
      " dense_58 (Dense)            (None, 100, 50)           6450      \n",
      "                                                                 \n",
      "=================================================================\n",
      "Total params: 1,490,610\n",
      "Trainable params: 1,490,610\n",
      "Non-trainable params: 0\n",
      "_________________________________________________________________\n"
     ]
    }
   ],
   "source": [
    "embedding_dim = 128\n",
    "lstm_units = 256\n",
    "dense_dim = 128\n",
    "learning_rate = 0.01\n",
    "\n",
    "model = Sequential(\n",
    "    [\n",
    "        Embedding(distinct_chars, embedding_dim, input_length=seq_length),\n",
    "        Bidirectional(LSTM(lstm_units, return_sequences=True)),\n",
    "        Bidirectional(LSTM(int(lstm_units / 2), return_sequences=True)),\n",
    "        Dense(dense_dim),\n",
    "        Dense(\n",
    "            distinct_chars, \n",
    "        ),  # not using softmax activation here, using the logits instead\n",
    "    ]\n",
    ")\n",
    "\n",
    "# Use categorical crossentropy because this is a multi-class problem\n",
    "model.compile(\n",
    "    loss=tf.losses.SparseCategoricalCrossentropy(from_logits=True),\n",
    "    optimizer=tf.keras.optimizers.Adam(learning_rate=learning_rate), \n",
    ")\n",
    "\n",
    "# Print the model summary\n",
    "model.summary()"
   ]
  },
  {
   "cell_type": "markdown",
   "id": "0d97bb52-0863-4cfe-9f30-01ba439a7ed7",
   "metadata": {},
   "source": [
    "## Training the model"
   ]
  },
  {
   "cell_type": "code",
   "execution_count": 505,
   "id": "d735403a-6179-442d-bfac-35a62d6d817e",
   "metadata": {},
   "outputs": [
    {
     "name": "stdout",
     "output_type": "stream",
     "text": [
      "Epoch 1/15\n"
     ]
    },
    {
     "name": "stderr",
     "output_type": "stream",
     "text": [
      "2022-11-02 23:08:40.962391: I tensorflow/core/grappler/optimizers/custom_graph_optimizer_registry.cc:114] Plugin optimizer for device_type GPU is enabled.\n",
      "2022-11-02 23:08:42.143936: I tensorflow/core/grappler/optimizers/custom_graph_optimizer_registry.cc:114] Plugin optimizer for device_type GPU is enabled.\n",
      "2022-11-02 23:08:42.166470: I tensorflow/core/grappler/optimizers/custom_graph_optimizer_registry.cc:114] Plugin optimizer for device_type GPU is enabled.\n",
      "2022-11-02 23:08:45.023353: I tensorflow/core/grappler/optimizers/custom_graph_optimizer_registry.cc:114] Plugin optimizer for device_type GPU is enabled.\n",
      "2022-11-02 23:08:45.131079: I tensorflow/core/grappler/optimizers/custom_graph_optimizer_registry.cc:114] Plugin optimizer for device_type GPU is enabled.\n",
      "2022-11-02 23:08:47.046187: I tensorflow/core/grappler/optimizers/custom_graph_optimizer_registry.cc:114] Plugin optimizer for device_type GPU is enabled.\n",
      "2022-11-02 23:08:47.082158: I tensorflow/core/grappler/optimizers/custom_graph_optimizer_registry.cc:114] Plugin optimizer for device_type GPU is enabled.\n",
      "2022-11-02 23:08:48.358642: I tensorflow/core/grappler/optimizers/custom_graph_optimizer_registry.cc:114] Plugin optimizer for device_type GPU is enabled.\n",
      "2022-11-02 23:08:48.461136: I tensorflow/core/grappler/optimizers/custom_graph_optimizer_registry.cc:114] Plugin optimizer for device_type GPU is enabled.\n"
     ]
    },
    {
     "name": "stdout",
     "output_type": "stream",
     "text": [
      "214/214 [==============================] - 96s 400ms/step - loss: 1.6233\n",
      "Epoch 2/15\n",
      "214/214 [==============================] - 91s 424ms/step - loss: 0.0349\n",
      "Epoch 3/15\n",
      "214/214 [==============================] - 89s 414ms/step - loss: 0.0246\n",
      "Epoch 4/15\n",
      "214/214 [==============================] - 86s 396ms/step - loss: 0.0223\n",
      "Epoch 5/15\n",
      "214/214 [==============================] - 82s 379ms/step - loss: 0.0209\n",
      "Epoch 6/15\n",
      "214/214 [==============================] - 82s 381ms/step - loss: 0.0197\n",
      "Epoch 7/15\n",
      "214/214 [==============================] - 84s 392ms/step - loss: 0.0190\n",
      "Epoch 8/15\n",
      "214/214 [==============================] - 86s 403ms/step - loss: 0.0180\n",
      "Epoch 9/15\n",
      "214/214 [==============================] - 88s 410ms/step - loss: 0.0175\n",
      "Epoch 10/15\n",
      "214/214 [==============================] - 89s 417ms/step - loss: 0.0171\n",
      "Epoch 11/15\n",
      "214/214 [==============================] - 108s 499ms/step - loss: 0.0165\n",
      "Epoch 12/15\n",
      "214/214 [==============================] - 85s 391ms/step - loss: 0.0160\n",
      "Epoch 13/15\n",
      "214/214 [==============================] - 87s 399ms/step - loss: 0.0157\n",
      "Epoch 14/15\n",
      "214/214 [==============================] - 87s 406ms/step - loss: 0.0153\n",
      "Epoch 15/15\n",
      "214/214 [==============================] - 89s 414ms/step - loss: 0.0149\n"
     ]
    }
   ],
   "source": [
    "epochs = 15\n",
    "batch_size = 256\n",
    "\n",
    "# Train the model\n",
    "history = model.fit(xs, ys, epochs=epochs, batch_size=batch_size)"
   ]
  },
  {
   "cell_type": "code",
   "execution_count": 506,
   "id": "5a2fef54-1e12-4fc2-ba99-db7ee3f444c9",
   "metadata": {},
   "outputs": [
    {
     "data": {
      "image/png": "[encoded data removed]",
      "text/plain": [
       "<Figure size 640x480 with 1 Axes>"
      ]
     },
     "metadata": {},
     "output_type": "display_data"
    }
   ],
   "source": [
    "def plot_graphs(history, metric):\n",
    "    plt.plot(history.history[metric])\n",
    "    plt.xlabel(\"Epochs\")\n",
    "    plt.ylabel(metric)\n",
    "    plt.show()\n",
    "\n",
    "plot_graphs(history, \"loss\")"
   ]
  },
  {
   "cell_type": "markdown",
   "id": "b6cfe418-8360-4df8-8541-78fc943eebd5",
   "metadata": {},
   "source": [
    "## Generating new dialogue"
   ]
  },
  {
   "cell_type": "code",
   "execution_count": 532,
   "id": "b6b9b64e-2506-47b4-a782-7f71c7d789e2",
   "metadata": {},
   "outputs": [
    {
     "name": "stdout",
     "output_type": "stream",
     "text": [
      "SEED TEXT:\n",
      "=================================================\n",
      "george: well, you got no place to go. i'll tell you what your problem is you brought your queen out \n",
      "=================================================\n",
      "\n",
      "PREDICTED TEXT:\n",
      "=================================================\n",
      "george: well, you got no place to go. i'll tell you what your problem is you brought your queen out shade to fee all fried lety fet how know, roal.\n",
      "\n",
      "elaine: come uronas.\n",
      "\n",
      "george: well you. what's my fing the reaideay with. do know, wo! af telrase.\n",
      "\n",
      "jerry: no you're would to secidy vicair?\n",
      "\n",
      "jerry: the was got fined`ersatities! frienmany.\n",
      "\n",
      "kramer: who vered something like. gonna sofne.\n",
      "\n",
      "kramer: oh, yeah, well, know do isticem?\n",
      "\n",
      "jerry: stay.\n",
      "\n",
      "krame: it's condeytle, lounan confere are le -'s wituse laste you teal have wountelg in as to do: me, the chiy but say. i you sither?\n",
      "\n",
      "jerry: the, we're use it... come kay... my's may make we'le are favailath to you reale, the beach, beol to filigh is to the looy anytap syfro makramergled sonstele anything more want cinds. cor rouse in$ goind to croubbene, of everys.\n",
      "\n",
      "c'ge: any i'm know, it good i'd ricd.  torting? exifewe the wow timething pet to was to it a prist nishe selarg as in the fexemby we a cruze my down? i toilet chirt we's reble that feened, of ul your live ofue ewning to seam fadelgin like not unfincavalas. nother. i kxaake us? fem, i thing to do hout rids!\n",
      "\n",
      "susan: loom. abon-hmed. i wittat wet i dosn't stop the finnings in the and do it talm a beet you harty that itee well, af about the towr my cosa don't the insersssing it's sow don't shoigemen? he's would shreen if couldn't?\n",
      "\n",
      "maestele: we tave it i know to is it? maed right's froncemwing us. i folld becestickies. 20, fred dome, i would about seeve riftamening!\n",
      "\n",
      "jerry: oh. who you it.\n",
      "\n",
      "maestro: o.k! cleale uwedel to?\n",
      "\n",
      "jerry: it was live.\n",
      "\n",
      "jerry: my man't um. very did it wou\n",
      "=================================================\n"
     ]
    }
   ],
   "source": [
    "characters_to_predict = 1500\n",
    "seed_text = decode(tokenizer, xs[0, :])\n",
    "\n",
    "make_random = True\n",
    "\n",
    "print(f'SEED TEXT:')\n",
    "print('=================================================')\n",
    "print(seed_text)\n",
    "print('=================================================\\n')\n",
    "\n",
    "for i in range(characters_to_predict):\n",
    "    encoded_seed_text = encode(seed_text)\n",
    "    padded_seed_text = np.expand_dims(\n",
    "        pad_sequences([encoded_seed_text], maxlen=seq_length, padding=\"pre\")[0], 0\n",
    "    )\n",
    "    pred = model.predict(padded_seed_text, verbose=0)[0]\n",
    "    \n",
    "    # get the last set of probabilities for the character prediction\n",
    "    preds_for_last_char = pred[-1]\n",
    "    \n",
    "    if make_random:\n",
    "        # Pick a token from a multinomial distribution defined by the output logit layer\n",
    "        token_draw = tf.random.categorical([preds_for_last_char], 1).numpy()[0][0]\n",
    "    else:\n",
    "        # Get the most likely token as the character prediction\n",
    "        token_draw = np.argmax(preds_for_last_char)\n",
    "    \n",
    "    predicted_text = decode(tokenizer, [token_draw])\n",
    "    seed_text += predicted_text\n",
    "\n",
    "print(f'PREDICTED TEXT:')\n",
    "print('=================================================')\n",
    "print(seed_text)\n",
    "print('=================================================')"
   ]
  },
  {
   "cell_type": "code",
   "execution_count": null,
   "id": "a7bdd24a-372f-4d0f-9921-8b6f2c91fbb9",
   "metadata": {},
   "outputs": [],
   "source": []
  }
 ],
 "metadata": {
  "kernelspec": {
   "display_name": "tf_py38",
   "language": "python",
   "name": "tf_py38"
  },
  "language_info": {
   "codemirror_mode": {
    "name": "ipython",
    "version": 3
   },
   "file_extension": ".py",
   "mimetype": "text/x-python",
   "name": "python",
   "nbconvert_exporter": "python",
   "pygments_lexer": "ipython3",
   "version": "3.8.13"
  }
 },
 "nbformat": 4,
 "nbformat_minor": 5
}
