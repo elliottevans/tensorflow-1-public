{
 "cells": [
  {
   "cell_type": "markdown",
   "metadata": {},
   "source": [
    "<a href=\"https://colab.research.google.com/github/https-deeplearning-ai/tensorflow-1-public/blob/master/C3/W4/ungraded_labs/C3_W4_Lab_2_irish_lyrics.ipynb\" target=\"_parent\"><img src=\"https://colab.research.google.com/assets/colab-badge.svg\" alt=\"Open In Colab\"/></a>"
   ]
  },
  {
   "cell_type": "markdown",
   "metadata": {
    "id": "SqIxQYm8h06Z"
   },
   "source": [
    "# Ungraded Lab: Generating Text from Irish Lyrics\n",
    "\n",
    "In the previous lab, you trained a model on just a single song. You might have found that the output text can quickly become gibberish or repetitive. Even if you tweak the hyperparameters, the model will still be limited by its vocabulary of only 263 words. The model will be more flexible if you train it on a much larger corpus and that's what you'll be doing in this lab. You will use lyrics from more Irish songs then see how the generated text looks like. You will also see how this impacts the process from data preparation to model training. Let's get started!"
   ]
  },
  {
   "cell_type": "code",
   "execution_count": 1,
   "metadata": {},
   "outputs": [],
   "source": [
    "# Install this package to use Colab's GPU for training\n",
    "# !apt install --allow-change-held-packages libcudnn8=8.4.1.50-1+cuda11.6"
   ]
  },
  {
   "cell_type": "markdown",
   "metadata": {
    "id": "wb1mfOvch4Sv"
   },
   "source": [
    "## Imports"
   ]
  },
  {
   "cell_type": "code",
   "execution_count": 49,
   "metadata": {
    "id": "BOwsuGQQY9OL"
   },
   "outputs": [],
   "source": [
    "import tensorflow as tf\n",
    "import numpy as np\n",
    "import pandas as pd\n",
    "\n",
    "from tensorflow.keras.preprocessing.sequence import pad_sequences\n",
    "from tensorflow.keras.layers import Embedding, LSTM, Dense, Bidirectional\n",
    "from tensorflow.keras.preprocessing.text import Tokenizer\n",
    "from tensorflow.keras.models import Sequential\n",
    "from tensorflow.keras.optimizers import Adam"
   ]
  },
  {
   "cell_type": "markdown",
   "metadata": {
    "id": "jmBFI788pOXx"
   },
   "source": [
    "## Building the Word Vocabulary\n",
    "\n",
    "You will first download the lyrics dataset. These will be from a compilation of traditional Irish songs and you can see them [here](https://github.com/https-deeplearning-ai/tensorflow-1-public/blob/main/C3/W4/misc/Laurences_generated_poetry.txt). "
   ]
  },
  {
   "cell_type": "code",
   "execution_count": 2,
   "metadata": {
    "id": "pylt5qZYsWPh"
   },
   "outputs": [
    {
     "name": "stdout",
     "output_type": "stream",
     "text": [
      "--2022-11-01 15:46:40--  https://storage.googleapis.com/tensorflow-1-public/course3/irish-lyrics-eof.txt\n",
      "Resolving storage.googleapis.com (storage.googleapis.com)... 172.253.62.128, 172.253.122.128, 172.217.2.112, ...\n",
      "Connecting to storage.googleapis.com (storage.googleapis.com)|172.253.62.128|:443... connected.\n",
      "HTTP request sent, awaiting response... 200 OK\n",
      "Length: 68970 (67K) [text/plain]\n",
      "Saving to: ‘data/irish-lyrics-eof.txt’\n",
      "\n",
      "irish-lyrics-eof.tx 100%[===================>]  67.35K  --.-KB/s    in 0.08s   \n",
      "\n",
      "2022-11-01 15:46:40 (808 KB/s) - ‘data/irish-lyrics-eof.txt’ saved [68970/68970]\n",
      "\n"
     ]
    }
   ],
   "source": [
    "# Download the dataset\n",
    "!wget -P data/ https://storage.googleapis.com/tensorflow-1-public/course3/irish-lyrics-eof.txt"
   ]
  },
  {
   "cell_type": "markdown",
   "metadata": {
    "id": "-v6JYQGNPXCW"
   },
   "source": [
    "Next, you will lowercase and split the plain text into a list of sentences:"
   ]
  },
  {
   "cell_type": "code",
   "execution_count": 62,
   "metadata": {
    "id": "LKOO7DFCPX3L"
   },
   "outputs": [
    {
     "name": "stdout",
     "output_type": "stream",
     "text": [
      "['Just go back and ask him again.', \"I wouldn't know where to start.\", 'Here we go.', \"Ya, that's the.. last thing you want to see. Well, next to last.\", \"Me neither. I love the previews. In fact I enjoy being in the theatre cut up. Last week after a preview, I yelled out 'Must miss'.\", \"Uh, excuse me. I know this is gonna sound crazy but I - I have to have that rye. It's a - it's a long story, but a person's whole future may depend on it.\", \"That's perfect.\", 'Oh, that was a strike! Did you see that?!', \"Great. You know, Frankie, I was wondering. What if I decided that it's silly to drive a van, because, you know, I live in New York City. Is there maybe some way I could exchange it?\", \"You know, I tell ya, I gotta say that I'm enjoying adulthood. For a lot of reasons. And, I'll tell you reason number one as an adult, if I want a cookie, I have a cookie, okay? I have three cookies or four cookies, or eleven cookies if I want. Many times I will intentionally ruin my entire appetite. Just ruin it. And then, I call my mother up right after to tell her that I did it. `Hello, Mom? yeah, I just ruined my entire appetite.. cookies. `So what if you ruin.. See, because as an adult, we understand even if you ruin an appetite, there's another appetite coming right behind it. There's no danger in running out of appetites. I've got millions of them, I'll ruin them whenever I want!\", \"I asked. Elaine laughed at me, Kramer's only interested in Canadian football.\", 'All right. Calm down.', 'Sure, how much?', \"Oh, it's you again. See, now if you had answered me, I wouldn't have had to do this. Now that's two long distance calls I made to you why can't you... Why? Why do they just hang up like that? Thank you very much.\", \"Come on. I don't want to tag along with George and Susan. If you're there it'll be a better group.\", \"Girls. There's girls right here in the store. Look, look, there's one over there. Look, there's another one. Soon as I walk outside there'll be girls out there. What's the matter?\", 'Last one.', 'Yea.', \"Yeah, I'll give you yours as soon as I get my money back.\", \"I've gotta to tell you about existence of egg salad?\", 'Why?', \"I got some Cubans for George's wedding. They were more than I wanted to pay for but what the hell!\", \"Oh, come on. You know he's a postman, don't ya?\", 'You know, my friend told me about this great place in Vermont.', 'You did not tell me not to sell.', \"I'm stunned, I'm shocked! How many times did you do this?\", 'Excuse me, um, did you see a piece of paper on the nightstand here earlier today crumpled up like a napkin?', 'Is that something you want to do?', 'No, actually I was just gonna... ', 'Here we go.', 'Well,... ', 'And did they suspect anything?', 'I said yes.', \"It's like I'm talking to my Aunt Sylvia here.\", 'The whale is supposed to be such an intelligent animal. You know you always here about how they can communicate by song from miles away. How extensive their vocabulary is. I would say from the rate we are pushing the whales off the beach back into the ocean the words shore and close do not appear to be in their vocabulary. I would say if the whales concentrate a little less on the singing and a little more on approaching Quervo beach volleyball tournament. If you wanna maintain the brainy mammal image.', \"People don't turn down money. It's what separates us from the animals.\", \"Why don't you get someone else from the office to go get Pisano's for you?\", 'Why?', '... Could you move over there?!', \"I don't think you did anything wrong.\", 'Did you steal my car?', 'Okay, fifteen minutes. I guarantee you fifteen minutes, I can make it happen!', \"It's Kramer isn't it? I knew it! The greasy door knob the constant licking of the fingers, he's hooked to the chicken isn't he?\", \"You know you're funcifying the whole building.\", 'Where?', 'Yeah', 'Kind of a Yankee prom?', \"I knew it! I'm not crazy.\", \"So, we're, uh, foolin' around there.. you know, it's getting a little passionate.. and, uh, she starts with the dirty talking.\", \"I have to tell you that I did some very exciting news recently, and I don't know if I should really tell you exactly what it is because it's really not a definite thing yet. Well, I will tell you what I know so far. According to the information that I have in the envelope that I've received, it seems that I may have already won some very valuable prizes. Well, thank you, thank you very much, well thank you. That's very nice to hear that. But, in all honesty, I have to say, I didn't even know I was in this thing. But, according to the readout, it looks like I am among the top people that they are considering. You know, that's what annoys me about the sweepstakes companies, they always tease you with that, You may have already won. I'd like once for a sweepstakes company to have some guts, come out with the truth, just tell people the truth one time. Send out envelopes, You have definitely lost! You turn it over, giant printing, Not even close! You open it up, there's this whole letter of explanation, Even we cannot believe how badly you have done in this contest.\", \"No. If I lend her to you I'll have to lend her to everybody.\", 'Can you grab a nap at work.', \"No, it's, it's just my neighbour... Um... Yeah, I got it. Ten-fifteen... No, don't be silly, go ahead and ask... Yeah, sure... Okay, great, no no, it's no trouble at all... I'll see you tomorrow... Great, bye. I don't believe it. That was her. She wants to stay here!\", 'Skin cancer! Damn.', \"What's all this about?\", \"So what's this job?\", 'O.K.', \"I think that's eat 24 hours before surgery.\", \"I don't think so.\", 'Oh boy... ', 'I did not. You guys gonna go through some red lights?', \"It's impossible\", 'Why do I seek your counsel?', 'The `coup d-toe`', 'What?', 'Why?', \"Really, you're getting that good?\", \"I cannot believe Lindsay's still seeing you after that `Breakfast at Tiffany's` thing.\", 'Yeah, I know about the three dates.', 'Do you not like apple pie?', 'It looked just like the jacket I brought in to be dry-cleaned. He complimented me on it.', \"Why didn't you shave this morning?\", 'Then this Pennsylvania Dutch thing comes out of nowhere. I mean, how am I supposed to respond to that?', \"I don't give out bites. I got another one. But I'm saving it for later.\", 'Aw, Mr Mandelbaum, I just wanted to come by and tell you how sorry I was that you hurt yourself.', \"I'm going to the hospital, to visit Fulton.\", 'Yeah, good morning.', \"No, it's no problem at all.\", 'She asked about you.', 'The bris?', 'I got it! We give the keys to Elaine.', 'Oh no, nothing.', 'Hello yeah yes it is really ah, ah Could you hold on a second? Hey listen to this, some woman found an electronic organizer, my name was in it, she wants me to help her track down the owner.', 'Yeah. Come on up.', \"You're not wearing a shirt, are you?\", 'Oh', 'Who is this..', 'Actually, we met in the gym locker room.', 'No.', \"Where'd you get plans?\", \"I'm being audited! And you broke up with her?\", \"You see the thing of it is, there's a lot of ugly people out there walking around, but they don't know they're ugly, because nobody actually tells them.\", \"And there's David Steinberg.\", 'Beautiful!', \"They're ladies' glasses! You know all you need is that little chain around your neck so you can wear 'em while you're playing Canasta.\", 'Alright, I got, uh, you come in, you say `Hi`, and I say `Hello`.', 'What guys?', \"Hey, didn't I beat you up in the fourth grade?\", \"Isn't it Myanmar now?\", 'From my house. I got a whole box of them.']\n"
     ]
    }
   ],
   "source": [
    "# Load the dataset\n",
    "data = open(\"./data/irish-lyrics-eof.txt\").read()\n",
    "\n",
    "# Lowercase and split the text\n",
    "# corpus = data.lower().split(\"\\n\")\n",
    "\n",
    "seinfeld_scripts = pd.read_csv('data/seinfeld_scripts.csv')\n",
    "corpus = seinfeld_scripts[seinfeld_scripts['character'] == 'JERRY'].sample(n=5000)['dialogue'].tolist()\n",
    "\n",
    "# Preview the result\n",
    "print(corpus[0:100])"
   ]
  },
  {
   "cell_type": "markdown",
   "metadata": {
    "id": "EkP2CP0qP8RD"
   },
   "source": [
    "From here, you can initialize the `Tokenizer` class and generate the word index dictionary:"
   ]
  },
  {
   "cell_type": "code",
   "execution_count": 63,
   "metadata": {
    "id": "PRnDnCW-Z7qv"
   },
   "outputs": [
    {
     "name": "stdout",
     "output_type": "stream",
     "text": [
      "(\"word index dictionary: [('you', 1), ('i', 2), ('the', 3), ('a', 4), ('to', \"\n",
      " \"5), ('it', 6), ('what', 7), ('that', 8), ('of', 9), ('and', 10), ('is', 11), \"\n",
      " '(\\'in\\', 12), (\\'this\\', 13), (\\'know\\', 14), (\"i\\'m\", 15), (\\'no\\', 16), '\n",
      " '(\"don\\'t\", 17), (\\'oh\\', 18), (\\'yeah\\', 19), (\\'me\\', 20), (\\'on\\', 21), '\n",
      " '(\"it\\'s\", 22), (\\'well\\', 23), (\\'do\\', 24), (\\'so\\', 25), (\\'my\\', 26), '\n",
      " \"('have', 27), ('with', 28), ('was', 29), ('not', 30), ('he', 31), ('for', \"\n",
      " '32), (\\'all\\', 33), (\\'just\\', 34), (\\'are\\', 35), (\"you\\'re\", 36), '\n",
      " \"('like', 37), ('be', 38), ('hey', 39), ('about', 40), ('get', 41), ('right', \"\n",
      " '42), (\\'up\\', 43), (\"that\\'s\", 44), (\\'out\\', 45), (\\'we\\', 46), (\\'go\\', '\n",
      " \"47), ('your', 48), ('there', 49), ('her', 50)]\")\n",
      "total words: 5063\n"
     ]
    }
   ],
   "source": [
    "# Initialize the Tokenizer class\n",
    "tokenizer = Tokenizer()\n",
    "\n",
    "# Generate the word index dictionary\n",
    "tokenizer.fit_on_texts(corpus)\n",
    "\n",
    "# Define the total words. You add 1 for the index `0` which is just the padding token.\n",
    "total_words = len(tokenizer.word_index) + 1\n",
    "\n",
    "pp.pprint(f\"word index dictionary: {list(tokenizer.word_index.items())[0:50]}\")\n",
    "print(f\"total words: {total_words}\")"
   ]
  },
  {
   "cell_type": "markdown",
   "metadata": {
    "id": "JK29FzZ7QW-4"
   },
   "source": [
    "## Preprocessing the Dataset\n",
    "\n",
    "Next, you will generate the inputs and labels for your model. The process will be identical to the previous lab. The `xs` or inputs to the model will be padded sequences, while the `ys` or labels are one-hot encoded arrays.\n",
    "\n",
    "Could also try using `nltk.util import everygrams` to do this"
   ]
  },
  {
   "cell_type": "code",
   "execution_count": 64,
   "metadata": {
    "id": "soPGVheskaQP"
   },
   "outputs": [],
   "source": [
    "# Initialize the sequences list\n",
    "_input_sequences = []\n",
    "\n",
    "# Loop over every line\n",
    "for line in corpus:\n",
    "\n",
    "    # Tokenize the current line\n",
    "    token_list = tokenizer.texts_to_sequences([line])[0]\n",
    "\n",
    "    # Loop over the line several times to generate the subphrases\n",
    "    for i in range(1, len(token_list)):\n",
    "\n",
    "        # Generate the subphrase\n",
    "        n_gram_sequence = token_list[: i + 1]\n",
    "\n",
    "        # Append the subphrase to the sequences list\n",
    "        _input_sequences.append(n_gram_sequence)\n",
    "\n",
    "# Get the length of the longest line\n",
    "max_sequence_len = max([len(x) for x in _input_sequences])\n",
    "\n",
    "# Pad all sequences\n",
    "input_sequences = np.array(\n",
    "    pad_sequences(_input_sequences, maxlen=max_sequence_len, padding=\"pre\")\n",
    ")\n",
    "\n",
    "# Create inputs and label by splitting the last token in the subphrases\n",
    "xs, labels = input_sequences[:, :-1], input_sequences[:, -1]\n",
    "\n",
    "# Convert the label into one-hot arrays\n",
    "ys = tf.keras.utils.to_categorical(labels, num_classes=total_words)"
   ]
  },
  {
   "cell_type": "code",
   "execution_count": 65,
   "metadata": {},
   "outputs": [
    {
     "data": {
      "text/plain": [
       "[[34, 47],\n",
       " [34, 47, 75],\n",
       " [34, 47, 75, 10],\n",
       " [34, 47, 75, 10, 193],\n",
       " [34, 47, 75, 10, 193, 60],\n",
       " [34, 47, 75, 10, 193, 60, 176],\n",
       " [2, 311],\n",
       " [2, 311, 14],\n",
       " [2, 311, 14, 114],\n",
       " [2, 311, 14, 114, 5],\n",
       " [2, 311, 14, 114, 5, 372],\n",
       " [58, 46],\n",
       " [58, 46, 47],\n",
       " [156, 44],\n",
       " [156, 44, 3],\n",
       " [156, 44, 3, 190],\n",
       " [156, 44, 3, 190, 94],\n",
       " [156, 44, 3, 190, 94, 1],\n",
       " [156, 44, 3, 190, 94, 1, 63],\n",
       " [156, 44, 3, 190, 94, 1, 63, 5]]"
      ]
     },
     "execution_count": 65,
     "metadata": {},
     "output_type": "execute_result"
    }
   ],
   "source": [
    "_input_sequences[0:20]"
   ]
  },
  {
   "cell_type": "code",
   "execution_count": 66,
   "metadata": {},
   "outputs": [
    {
     "data": {
      "text/plain": [
       "array([ 47,  75,  10, 193,  60, 176, 311,  14, 114,   5, 372,  46,  47,\n",
       "        44,   3, 190,  94,   1,  63,   5], dtype=int32)"
      ]
     },
     "execution_count": 66,
     "metadata": {},
     "output_type": "execute_result"
    }
   ],
   "source": [
    "labels[0:20]"
   ]
  },
  {
   "cell_type": "code",
   "execution_count": 67,
   "metadata": {},
   "outputs": [
    {
     "data": {
      "text/plain": [
       "array([[0., 0., 0., ..., 0., 0., 0.],\n",
       "       [0., 0., 0., ..., 0., 0., 0.],\n",
       "       [0., 0., 0., ..., 0., 0., 0.],\n",
       "       ...,\n",
       "       [0., 0., 0., ..., 0., 0., 0.],\n",
       "       [0., 0., 0., ..., 0., 0., 1.],\n",
       "       [0., 0., 0., ..., 0., 0., 0.]], dtype=float32)"
      ]
     },
     "execution_count": 67,
     "metadata": {},
     "output_type": "execute_result"
    }
   ],
   "source": [
    "ys"
   ]
  },
  {
   "cell_type": "markdown",
   "metadata": {
    "id": "TmWHCO0dQGlZ"
   },
   "source": [
    "You can then print some of the examples as a sanity check."
   ]
  },
  {
   "cell_type": "code",
   "execution_count": 71,
   "metadata": {
    "id": "pJtwVB2NbOAP"
   },
   "outputs": [
    {
     "name": "stdout",
     "output_type": "stream",
     "text": [
      "sample sentence: ['Just', 'go', 'back', 'and', 'ask', 'him', 'again.']\n",
      "[34, 47, 75, 10, 193, 60, 176]\n"
     ]
    }
   ],
   "source": [
    "# Get sample sentence\n",
    "sentence = corpus[0].split()\n",
    "print(f\"sample sentence: {sentence}\")\n",
    "\n",
    "# Initialize token list\n",
    "token_list = []\n",
    "\n",
    "# Look up the indices of each word and append to the list\n",
    "for word in sentence:\n",
    "    token_list.append(tokenizer.word_index[word.lower().replace('.', '')])\n",
    "\n",
    "# Print the token list\n",
    "print(token_list)"
   ]
  },
  {
   "cell_type": "code",
   "execution_count": 72,
   "metadata": {
    "id": "lMr6kKfzROlW"
   },
   "outputs": [
    {
     "name": "stdout",
     "output_type": "stream",
     "text": [
      "token list: [  0   0   0   0   0   0   0   0   0   0   0   0   0   0   0   0   0   0\n",
      "   0   0   0   0   0   0   0   0   0   0   0   0   0   0   0   0   0   0\n",
      "   0   0   0   0   0   0   0   0   0   0   0   0   0   0   0   0   0   0\n",
      "   0   0   0   0   0   0   0   0   0   0   0   0   0   0   0   0   0   0\n",
      "   0   0   0   0   0   0   0   0   0   0   0   0   0   0   0   0   0   0\n",
      "   0   0   0   0   0   0   0   0   0   0   0   0   0   0   0   0   0   0\n",
      "   0   0   0   0   0   0   0   0   0   0   0   0   0   0   0   0   0   0\n",
      "   0   0   0   0   0   0   0   0   0   0   0   0   0   0   0   0   0   0\n",
      "   0   0   0   0   0   0   0   0   0   0   0   0   0   0   0   0   0   0\n",
      "   0   0   0   0   0   0   0   0   0   0   0   0   0   0   0   0   0   0\n",
      "   0   0   0   0   0   0   0   0   0   0   0   0   0   0   0   0   0   0\n",
      "   0   0  34  47  75  10 193  60]\n",
      "decoded to text: ['just go back and ask him']\n",
      "one-hot label: [0. 0. 0. ... 0. 0. 0.]\n",
      "index of label: 176\n"
     ]
    }
   ],
   "source": [
    "# Pick element\n",
    "elem_number = 5\n",
    "\n",
    "# Print token list and phrase\n",
    "print(f\"token list: {xs[elem_number]}\")\n",
    "print(f\"decoded to text: {tokenizer.sequences_to_texts([xs[elem_number]])}\")\n",
    "\n",
    "# Print label\n",
    "print(f\"one-hot label: {ys[elem_number]}\")\n",
    "print(f\"index of label: {np.argmax(ys[elem_number])}\")"
   ]
  },
  {
   "cell_type": "code",
   "execution_count": 73,
   "metadata": {
    "id": "49Cv68JOakwv"
   },
   "outputs": [
    {
     "name": "stdout",
     "output_type": "stream",
     "text": [
      "token list: [  0   0   0   0   0   0   0   0   0   0   0   0   0   0   0   0   0   0\n",
      "   0   0   0   0   0   0   0   0   0   0   0   0   0   0   0   0   0   0\n",
      "   0   0   0   0   0   0   0   0   0   0   0   0   0   0   0   0   0   0\n",
      "   0   0   0   0   0   0   0   0   0   0   0   0   0   0   0   0   0   0\n",
      "   0   0   0   0   0   0   0   0   0   0   0   0   0   0   0   0   0   0\n",
      "   0   0   0   0   0   0   0   0   0   0   0   0   0   0   0   0   0   0\n",
      "   0   0   0   0   0   0   0   0   0   0   0   0   0   0   0   0   0   0\n",
      "   0   0   0   0   0   0   0   0   0   0   0   0   0   0   0   0   0   0\n",
      "   0   0   0   0   0   0   0   0   0   0   0   0   0   0   0   0   0   0\n",
      "   0   0   0   0   0   0   0   0   0   0   0   0   0   0   0   0   0   0\n",
      "   0   0   0   0   0   0   0   0   0   0   0   0   0   0   0   0   0   0\n",
      "   0   0   0  34  47  75  10 193]\n",
      "decoded to text: ['just go back and ask']\n",
      "one-hot label: [0. 0. 0. ... 0. 0. 0.]\n",
      "index of label: 60\n"
     ]
    }
   ],
   "source": [
    "# Pick element\n",
    "elem_number = 4\n",
    "\n",
    "# Print token list and phrase\n",
    "print(f\"token list: {xs[elem_number]}\")\n",
    "print(f\"decoded to text: {tokenizer.sequences_to_texts([xs[elem_number]])}\")\n",
    "\n",
    "# Print label\n",
    "print(f\"one-hot label: {ys[elem_number]}\")\n",
    "print(f\"index of label: {np.argmax(ys[elem_number])}\")"
   ]
  },
  {
   "cell_type": "markdown",
   "metadata": {
    "id": "VKWWUZm5VPG9"
   },
   "source": [
    "## Build and compile the Model\n",
    "\n",
    "Next, you will build and compile the model. We placed some of the hyperparameters at the top of the code cell so you can easily tweak it later if you want."
   ]
  },
  {
   "cell_type": "code",
   "execution_count": 77,
   "metadata": {
    "id": "w9vH8Y59ajYL"
   },
   "outputs": [
    {
     "name": "stdout",
     "output_type": "stream",
     "text": [
      "Model: \"sequential_6\"\n",
      "_________________________________________________________________\n",
      " Layer (type)                Output Shape              Param #   \n",
      "=================================================================\n",
      " embedding_6 (Embedding)     (None, 206, 100)          506300    \n",
      "                                                                 \n",
      " bidirectional_6 (Bidirectio  (None, 300)              301200    \n",
      " nal)                                                            \n",
      "                                                                 \n",
      " dense_6 (Dense)             (None, 5063)              1523963   \n",
      "                                                                 \n",
      "=================================================================\n",
      "Total params: 2,331,463\n",
      "Trainable params: 2,331,463\n",
      "Non-trainable params: 0\n",
      "_________________________________________________________________\n"
     ]
    }
   ],
   "source": [
    "# Hyperparameters\n",
    "embedding_dim = 100\n",
    "lstm_units = 150\n",
    "learning_rate = 0.01\n",
    "\n",
    "# Build the model\n",
    "model = Sequential(\n",
    "    [\n",
    "        Embedding(total_words, embedding_dim, input_length=max_sequence_len - 1),\n",
    "        Bidirectional(LSTM(lstm_units)),\n",
    "        Dense(total_words, activation=\"softmax\"),\n",
    "    ]\n",
    ")\n",
    "\n",
    "# Use categorical crossentropy because this is a multi-class problem\n",
    "model.compile(\n",
    "    loss=\"categorical_crossentropy\",\n",
    "    optimizer=tf.keras.optimizers.Adam(learning_rate=learning_rate),\n",
    "    metrics=[\"accuracy\"],\n",
    ")\n",
    "\n",
    "# Print the model summary\n",
    "model.summary()"
   ]
  },
  {
   "cell_type": "markdown",
   "metadata": {
    "id": "OpI0d9cfR43c"
   },
   "source": [
    "## Train the model\n",
    "\n",
    "From the model summary above, you'll notice that the number of trainable params is much larger than the one in the previous lab. Consequently, that usually means a slower training time. It will take roughly 7 seconds per epoch with the GPU enabled in Colab and you'll reach around 76% accuracy after 100 epochs."
   ]
  },
  {
   "cell_type": "code",
   "execution_count": 78,
   "metadata": {
    "id": "Nc4zC7C4jJpN"
   },
   "outputs": [
    {
     "name": "stdout",
     "output_type": "stream",
     "text": [
      "Epoch 1/25\n"
     ]
    },
    {
     "name": "stderr",
     "output_type": "stream",
     "text": [
      "2022-11-01 16:18:51.849209: I tensorflow/core/grappler/optimizers/custom_graph_optimizer_registry.cc:114] Plugin optimizer for device_type GPU is enabled.\n",
      "2022-11-01 16:18:52.434886: I tensorflow/core/grappler/optimizers/custom_graph_optimizer_registry.cc:114] Plugin optimizer for device_type GPU is enabled.\n",
      "2022-11-01 16:18:52.648201: I tensorflow/core/grappler/optimizers/custom_graph_optimizer_registry.cc:114] Plugin optimizer for device_type GPU is enabled.\n",
      "2022-11-01 16:18:53.874981: I tensorflow/core/grappler/optimizers/custom_graph_optimizer_registry.cc:114] Plugin optimizer for device_type GPU is enabled.\n",
      "2022-11-01 16:18:53.907657: I tensorflow/core/grappler/optimizers/custom_graph_optimizer_registry.cc:114] Plugin optimizer for device_type GPU is enabled.\n"
     ]
    },
    {
     "name": "stdout",
     "output_type": "stream",
     "text": [
      "163/163 [==============================] - 100s 572ms/step - loss: 6.4398 - accuracy: 0.0485\n",
      "Epoch 2/25\n",
      "163/163 [==============================] - 133s 808ms/step - loss: 5.5612 - accuracy: 0.1073\n",
      "Epoch 3/25\n",
      "163/163 [==============================] - 98s 596ms/step - loss: 4.9895 - accuracy: 0.1451\n",
      "Epoch 4/25\n",
      "163/163 [==============================] - 101s 618ms/step - loss: 4.4352 - accuracy: 0.1767\n",
      "Epoch 5/25\n",
      "163/163 [==============================] - 98s 600ms/step - loss: 3.8820 - accuracy: 0.2218\n",
      "Epoch 6/25\n",
      "163/163 [==============================] - 103s 631ms/step - loss: 3.3707 - accuracy: 0.2832\n",
      "Epoch 7/25\n",
      "163/163 [==============================] - 111s 683ms/step - loss: 2.9401 - accuracy: 0.3452\n",
      "Epoch 8/25\n",
      "163/163 [==============================] - 114s 698ms/step - loss: 2.6090 - accuracy: 0.4040\n",
      "Epoch 9/25\n",
      "163/163 [==============================] - 94s 573ms/step - loss: 2.3467 - accuracy: 0.4505\n",
      "Epoch 10/25\n",
      "163/163 [==============================] - 99s 605ms/step - loss: 2.1285 - accuracy: 0.4946\n",
      "Epoch 11/25\n",
      "163/163 [==============================] - 97s 588ms/step - loss: 1.9450 - accuracy: 0.5312\n",
      "Epoch 12/25\n",
      "163/163 [==============================] - 98s 596ms/step - loss: 1.8040 - accuracy: 0.5615\n",
      "Epoch 13/25\n",
      "163/163 [==============================] - 92s 564ms/step - loss: 1.7028 - accuracy: 0.5813\n",
      "Epoch 14/25\n",
      "163/163 [==============================] - 103s 631ms/step - loss: 1.6159 - accuracy: 0.5993\n",
      "Epoch 15/25\n",
      "163/163 [==============================] - 113s 691ms/step - loss: 1.5354 - accuracy: 0.6144\n",
      "Epoch 16/25\n",
      "163/163 [==============================] - 92s 562ms/step - loss: 1.4722 - accuracy: 0.6301\n",
      "Epoch 17/25\n",
      "163/163 [==============================] - 90s 553ms/step - loss: 1.4033 - accuracy: 0.6470\n",
      "Epoch 18/25\n",
      "163/163 [==============================] - 93s 572ms/step - loss: 1.3859 - accuracy: 0.6433\n",
      "Epoch 19/25\n",
      "163/163 [==============================] - 93s 571ms/step - loss: 1.3706 - accuracy: 0.6498\n",
      "Epoch 20/25\n",
      "163/163 [==============================] - 91s 560ms/step - loss: 1.3743 - accuracy: 0.6432\n",
      "Epoch 21/25\n",
      "163/163 [==============================] - 107s 657ms/step - loss: 1.3301 - accuracy: 0.6527\n",
      "Epoch 22/25\n",
      "163/163 [==============================] - 107s 648ms/step - loss: 1.2869 - accuracy: 0.6655\n",
      "Epoch 23/25\n",
      "163/163 [==============================] - 94s 574ms/step - loss: 1.2484 - accuracy: 0.6775\n",
      "Epoch 24/25\n",
      "163/163 [==============================] - 93s 572ms/step - loss: 1.2673 - accuracy: 0.6679\n",
      "Epoch 25/25\n",
      "163/163 [==============================] - 98s 602ms/step - loss: 1.3282 - accuracy: 0.6517\n"
     ]
    }
   ],
   "source": [
    "epochs = 25\n",
    "\n",
    "# Train the model\n",
    "history = model.fit(xs, ys, epochs=epochs, batch_size=256)"
   ]
  },
  {
   "cell_type": "markdown",
   "metadata": {
    "id": "WgAzLnLATFts"
   },
   "source": [
    "You can visualize the accuracy below to see how it fluctuates as the training progresses."
   ]
  },
  {
   "cell_type": "code",
   "execution_count": 79,
   "metadata": {
    "id": "3YXGelKThoTT"
   },
   "outputs": [
    {
     "data": {
      "image/png": "[encoded data removed]",
      "text/plain": [
       "<Figure size 640x480 with 1 Axes>"
      ]
     },
     "metadata": {},
     "output_type": "display_data"
    }
   ],
   "source": [
    "import matplotlib.pyplot as plt\n",
    "\n",
    "# Plot utility\n",
    "def plot_graphs(history, string):\n",
    "    plt.plot(history.history[string])\n",
    "    plt.xlabel(\"Epochs\")\n",
    "    plt.ylabel(string)\n",
    "    plt.show()\n",
    "\n",
    "\n",
    "# Visualize the accuracy\n",
    "plot_graphs(history, \"accuracy\")"
   ]
  },
  {
   "cell_type": "markdown",
   "metadata": {
    "id": "9gxKIcvGTUnw"
   },
   "source": [
    "## Generating Text\n",
    "\n",
    "Now you can let the model make its own songs or poetry! Because it is trained on a much larger corpus, the results below should contain less repetitions as before. The code below picks the next word based on the highest probability output."
   ]
  },
  {
   "cell_type": "code",
   "execution_count": 115,
   "metadata": {
    "id": "6Vc6PHgxa6Hm"
   },
   "outputs": [
    {
     "name": "stdout",
     "output_type": "stream",
     "text": [
      "1/1 [==============================] - 0s 229ms/step\n",
      "1/1 [==============================] - 0s 68ms/step\n",
      "1/1 [==============================] - 0s 57ms/step\n",
      "1/1 [==============================] - 0s 65ms/step\n",
      "1/1 [==============================] - 0s 57ms/step\n",
      "1/1 [==============================] - 0s 64ms/step\n",
      "1/1 [==============================] - 0s 67ms/step\n",
      "1/1 [==============================] - 0s 56ms/step\n",
      "1/1 [==============================] - 0s 56ms/step\n",
      "1/1 [==============================] - 0s 56ms/step\n",
      "1/1 [==============================] - 0s 59ms/step\n",
      "1/1 [==============================] - 0s 55ms/step\n",
      "1/1 [==============================] - 0s 59ms/step\n",
      "1/1 [==============================] - 0s 71ms/step\n",
      "1/1 [==============================] - 0s 92ms/step\n",
      "1/1 [==============================] - 0s 70ms/step\n",
      "1/1 [==============================] - 0s 60ms/step\n",
      "1/1 [==============================] - 0s 65ms/step\n",
      "1/1 [==============================] - 0s 59ms/step\n",
      "1/1 [==============================] - 0s 54ms/step\n",
      "1/1 [==============================] - 0s 55ms/step\n",
      "1/1 [==============================] - 0s 55ms/step\n",
      "1/1 [==============================] - 0s 62ms/step\n",
      "1/1 [==============================] - 0s 60ms/step\n",
      "1/1 [==============================] - 0s 56ms/step\n",
      "elaine what are you doing here you got a nice guy a coffee grinder is where she's a little crumpled up to how to you do\n"
     ]
    }
   ],
   "source": [
    "# Define seed text\n",
    "# seed_text = \"help me obi-wan kinobi youre my only hope\"\n",
    "seed_text = 'elaine'\n",
    "\n",
    "# Define total words to predict\n",
    "next_words = 25\n",
    "\n",
    "# Loop until desired length is reached\n",
    "for _ in range(next_words):\n",
    "\n",
    "    # Convert the seed text to a token sequence\n",
    "    token_list = tokenizer.texts_to_sequences([seed_text])[0]\n",
    "\n",
    "    # Pad the sequence\n",
    "    token_list = pad_sequences([token_list], maxlen=max_sequence_len - 1, padding=\"pre\")\n",
    "\n",
    "    # Feed to the model and get the probabilities for each index\n",
    "    probabilities = model.predict(token_list)\n",
    "\n",
    "    # Get the index with the highest probability\n",
    "    predicted = np.argmax(probabilities, axis=-1)[0]\n",
    "\n",
    "    # Ignore if index is 0 because that is just the padding.\n",
    "    if predicted != 0:\n",
    "\n",
    "        # Look up the word associated with the index.\n",
    "        output_word = tokenizer.index_word[predicted]\n",
    "\n",
    "        # Combine with the seed text\n",
    "        seed_text += \" \" + output_word\n",
    "\n",
    "# Print the result\n",
    "print(seed_text)"
   ]
  },
  {
   "cell_type": "markdown",
   "metadata": {
    "id": "wHtrtAFAT6tn"
   },
   "source": [
    "Here again is the code that gets the top 3 predictions and picks one at random."
   ]
  },
  {
   "cell_type": "code",
   "execution_count": 113,
   "metadata": {
    "id": "yJfzKm-8mVKD"
   },
   "outputs": [
    {
     "name": "stdout",
     "output_type": "stream",
     "text": [
      "1/1 [==============================] - 0s 101ms/step\n",
      "1/1 [==============================] - 0s 56ms/step\n",
      "1/1 [==============================] - 0s 54ms/step\n",
      "1/1 [==============================] - 0s 63ms/step\n",
      "1/1 [==============================] - 0s 54ms/step\n",
      "1/1 [==============================] - 0s 56ms/step\n",
      "1/1 [==============================] - 0s 54ms/step\n",
      "1/1 [==============================] - 0s 58ms/step\n",
      "1/1 [==============================] - 0s 54ms/step\n",
      "1/1 [==============================] - 0s 65ms/step\n",
      "1/1 [==============================] - 0s 55ms/step\n",
      "1/1 [==============================] - 0s 55ms/step\n",
      "1/1 [==============================] - 0s 54ms/step\n",
      "1/1 [==============================] - 0s 56ms/step\n",
      "1/1 [==============================] - 0s 58ms/step\n",
      "1/1 [==============================] - 0s 63ms/step\n",
      "1/1 [==============================] - 0s 57ms/step\n",
      "1/1 [==============================] - 0s 64ms/step\n",
      "1/1 [==============================] - 0s 56ms/step\n",
      "1/1 [==============================] - 0s 56ms/step\n",
      "george george here what did we say with this a 5 quitting even handed you much doesn't make that seem sure and\n"
     ]
    }
   ],
   "source": [
    "# Define seed text\n",
    "# seed_text = \"help me obi-wan kinobi youre my only hope\"\n",
    "seed_text = 'george'\n",
    "\n",
    "# Define total words to predict\n",
    "next_words = 20\n",
    "\n",
    "# Loop until desired length is reached\n",
    "for _ in range(next_words):\n",
    "\n",
    "    # Convert the seed text to a token sequence\n",
    "    token_list = tokenizer.texts_to_sequences([seed_text])[0]\n",
    "\n",
    "    # Pad the sequence\n",
    "    token_list = pad_sequences([token_list], maxlen=max_sequence_len - 1, padding=\"pre\")\n",
    "\n",
    "    # Feed to the model and get the probabilities for each index\n",
    "    probabilities = model.predict(token_list)\n",
    "\n",
    "    # Pick a random number from [1,2,3]\n",
    "    choice = np.random.choice([1, 2, 3])\n",
    "\n",
    "    # Sort the probabilities in ascending order\n",
    "    # and get the random choice from the end of the array\n",
    "    predicted = np.argsort(probabilities)[0][-choice]\n",
    "\n",
    "    # Ignore if index is 0 because that is just the padding.\n",
    "    if predicted != 0:\n",
    "\n",
    "        # Look up the word associated with the index.\n",
    "        output_word = tokenizer.index_word[predicted]\n",
    "\n",
    "        # Combine with the seed text\n",
    "        seed_text += \" \" + output_word\n",
    "\n",
    "# Print the result\n",
    "print(seed_text)"
   ]
  },
  {
   "cell_type": "markdown",
   "metadata": {
    "id": "DP0--sdMUJ_k"
   },
   "source": [
    "## Wrap Up\n",
    "\n",
    "This lab shows the effect of having a larger dataset to train your text generation model. As expected, this will take a longer time to prepare and train but the output will less likely become repetitive or gibberish. Try to tweak the hyperparameters and see if you get better results. You can also find some other text datasets and use it to train the model here.  "
   ]
  }
 ],
 "metadata": {
  "accelerator": "GPU",
  "colab": {
   "collapsed_sections": [],
   "name": "C3_W4_Lab_2_irish_lyrics.ipynb",
   "private_outputs": true,
   "provenance": []
  },
  "kernelspec": {
   "display_name": "tf_py38",
   "language": "python",
   "name": "tf_py38"
  },
  "language_info": {
   "codemirror_mode": {
    "name": "ipython",
    "version": 3
   },
   "file_extension": ".py",
   "mimetype": "text/x-python",
   "name": "python",
   "nbconvert_exporter": "python",
   "pygments_lexer": "ipython3",
   "version": "3.8.13"
  }
 },
 "nbformat": 4,
 "nbformat_minor": 4
}
