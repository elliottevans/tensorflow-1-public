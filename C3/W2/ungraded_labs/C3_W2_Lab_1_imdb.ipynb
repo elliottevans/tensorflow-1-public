{
 "cells": [
  {
   "cell_type": "markdown",
   "metadata": {},
   "source": [
    "<a href=\"https://colab.research.google.com/github/https-deeplearning-ai/tensorflow-1-public/blob/master/C3/W2/ungraded_labs/C3_W2_Lab_1_imdb.ipynb\" target=\"_parent\"><img src=\"https://colab.research.google.com/assets/colab-badge.svg\" alt=\"Open In Colab\"/></a>"
   ]
  },
  {
   "cell_type": "markdown",
   "metadata": {
    "id": "dGATMXZE4oAD"
   },
   "source": [
    "# Ungraded Lab: Training a binary classifier with the IMDB Reviews Dataset\n",
    "\n",
    "In this lab, you will be building a sentiment classification model to distinguish between positive and negative movie reviews. You will train it on the [IMDB Reviews](http://ai.stanford.edu/~amaas/data/sentiment/) dataset and visualize the word embeddings generated after training. \n",
    "\n",
    "Let's get started!\n"
   ]
  },
  {
   "cell_type": "code",
   "execution_count": 65,
   "metadata": {},
   "outputs": [],
   "source": [
    "%load_ext tensorboard"
   ]
  },
  {
   "cell_type": "markdown",
   "metadata": {
    "id": "sWt8QlOGpy1j"
   },
   "source": [
    "## Download the Dataset\n",
    "\n",
    "First, you will need to fetch the dataset you will be working on. This is hosted via [Tensorflow Datasets](https://www.tensorflow.org/datasets), a collection of prepared datasets for machine learning. If you're running this notebook on your local machine, make sure to have the [`tensorflow-datasets`](https://pypi.org/project/tensorflow-datasets/) package installed before importing it. You can install it via `pip` as shown in the commented cell below."
   ]
  },
  {
   "cell_type": "code",
   "execution_count": null,
   "metadata": {
    "id": "vqB3GzBorwBh"
   },
   "outputs": [],
   "source": [
    "# Install this package if running on your local machine\n",
    "# !pip install -q tensorflow-datasets"
   ]
  },
  {
   "cell_type": "markdown",
   "metadata": {
    "id": "SpLsMxO2wDrn"
   },
   "source": [
    "The [`tfds.load`](https://www.tensorflow.org/datasets/api_docs/python/tfds/load) method downloads the dataset into your working directory. You can set the `with_info` parameter to `True` if you want to see the description of the dataset. The `as_supervised` parameter, on the other hand, is set to load the data as `(input, label)` pairs."
   ]
  },
  {
   "cell_type": "code",
   "execution_count": 2,
   "metadata": {
    "id": "_IoM4VFxWpMR"
   },
   "outputs": [
    {
     "name": "stderr",
     "output_type": "stream",
     "text": [
      "/Users/elliottevans/miniforge3/envs/tf_py38/lib/python3.8/site-packages/tqdm/auto.py:22: TqdmWarning: IProgress not found. Please update jupyter and ipywidgets. See https://ipywidgets.readthedocs.io/en/stable/user_install.html\n",
      "  from .autonotebook import tqdm as notebook_tqdm\n",
      "2022-10-19 16:59:23.129479: W tensorflow/core/platform/cloud/google_auth_provider.cc:184] All attempts to get a Google authentication bearer token failed, returning an empty token. Retrieving token from files failed with \"NOT_FOUND: Could not locate the credentials file.\". Retrieving token from GCE failed with \"FAILED_PRECONDITION: Error executing an HTTP request: libcurl code 6 meaning 'Couldn't resolve host name', error details: Could not resolve host: metadata\".\n"
     ]
    },
    {
     "name": "stdout",
     "output_type": "stream",
     "text": [
      "\u001b[1mDownloading and preparing dataset 80.23 MiB (download: 80.23 MiB, generated: Unknown size, total: 80.23 MiB) to /Users/elliottevans/tensorflow_datasets/imdb_reviews/plain_text/1.0.0...\u001b[0m\n"
     ]
    },
    {
     "name": "stderr",
     "output_type": "stream",
     "text": [
      "Dl Completed...: 0 url [00:00, ? url/s]\n",
      "Dl Completed...:   0%|                                          | 0/1 [00:00<?, ? url/s]\n",
      "Dl Completed...:   0%|                                          | 0/1 [00:00<?, ? url/s]\n",
      "Dl Size...:   0%|                                              | 0/80 [00:00<?, ? MiB/s]\u001b[A\n",
      "Dl Completed...:   0%|                                          | 0/1 [00:01<?, ? url/s]\u001b[A\n",
      "Dl Size...:   1%|▍                                     | 1/80 [00:01<01:46,  1.35s/ MiB]\u001b[A\n",
      "Dl Completed...:   0%|                                          | 0/1 [00:02<?, ? url/s]\u001b[A\n",
      "Dl Size...:   2%|▉                                     | 2/80 [00:02<01:19,  1.02s/ MiB]\u001b[A\n",
      "Dl Completed...:   0%|                                          | 0/1 [00:03<?, ? url/s]\u001b[A\n",
      "Dl Size...:   4%|█▍                                    | 3/80 [00:03<01:28,  1.15s/ MiB]\u001b[A\n",
      "Dl Completed...:   0%|                                          | 0/1 [00:04<?, ? url/s]\u001b[A\n",
      "Dl Size...:   5%|█▉                                    | 4/80 [00:04<01:27,  1.16s/ MiB]\u001b[A\n",
      "Dl Completed...:   0%|                                          | 0/1 [00:05<?, ? url/s]\u001b[A\n",
      "Dl Size...:   6%|██▍                                   | 5/80 [00:05<01:28,  1.17s/ MiB]\u001b[A\n",
      "Dl Completed...:   0%|                                          | 0/1 [00:07<?, ? url/s]\u001b[A\n",
      "Dl Size...:   8%|██▊                                   | 6/80 [00:07<01:28,  1.20s/ MiB]\u001b[A\n",
      "Dl Completed...:   0%|                                          | 0/1 [00:09<?, ? url/s]\u001b[A\n",
      "Dl Size...:   9%|███▎                                  | 7/80 [00:09<01:44,  1.44s/ MiB]\u001b[A\n",
      "Dl Completed...:   0%|                                          | 0/1 [00:10<?, ? url/s]\u001b[A\n",
      "Dl Size...:  10%|███▊                                  | 8/80 [00:10<01:41,  1.40s/ MiB]\u001b[A\n",
      "Dl Completed...:   0%|                                          | 0/1 [00:11<?, ? url/s]\u001b[A\n",
      "Dl Size...:  11%|████▎                                 | 9/80 [00:11<01:36,  1.36s/ MiB]\u001b[A\n",
      "Dl Completed...:   0%|                                          | 0/1 [00:12<?, ? url/s]\u001b[A\n",
      "Dl Size...:  12%|████▋                                | 10/80 [00:12<01:34,  1.36s/ MiB]\u001b[A\n",
      "Dl Completed...:   0%|                                          | 0/1 [00:14<?, ? url/s]\u001b[A\n",
      "Dl Size...:  14%|█████                                | 11/80 [00:14<01:33,  1.36s/ MiB]\u001b[A\n",
      "Dl Completed...:   0%|                                          | 0/1 [00:15<?, ? url/s]\u001b[A\n",
      "Dl Size...:  15%|█████▌                               | 12/80 [00:15<01:24,  1.24s/ MiB]\u001b[A\n",
      "Dl Completed...:   0%|                                          | 0/1 [00:16<?, ? url/s]\u001b[A\n",
      "Dl Size...:  16%|██████                               | 13/80 [00:16<01:17,  1.16s/ MiB]\u001b[A\n",
      "Dl Completed...:   0%|                                          | 0/1 [00:17<?, ? url/s]\u001b[A\n",
      "Dl Size...:  18%|██████▍                              | 14/80 [00:17<01:09,  1.06s/ MiB]\u001b[A\n",
      "Dl Completed...:   0%|                                          | 0/1 [00:18<?, ? url/s]\u001b[A\n",
      "Dl Size...:  19%|██████▉                              | 15/80 [00:18<01:06,  1.03s/ MiB]\u001b[A\n",
      "Dl Completed...:   0%|                                          | 0/1 [00:19<?, ? url/s]\u001b[A\n",
      "Dl Size...:  20%|███████▍                             | 16/80 [00:19<01:04,  1.02s/ MiB]\u001b[A\n",
      "Dl Completed...:   0%|                                          | 0/1 [00:20<?, ? url/s]\u001b[A\n",
      "Dl Size...:  21%|███████▊                             | 17/80 [00:20<01:07,  1.07s/ MiB]\u001b[A\n",
      "Dl Completed...:   0%|                                          | 0/1 [00:21<?, ? url/s]\u001b[A\n",
      "Dl Size...:  22%|████████▎                            | 18/80 [00:21<01:06,  1.08s/ MiB]\u001b[A\n",
      "Dl Completed...:   0%|                                          | 0/1 [00:22<?, ? url/s]\u001b[A\n",
      "Dl Size...:  24%|████████▊                            | 19/80 [00:22<01:07,  1.10s/ MiB]\u001b[A\n",
      "Dl Completed...:   0%|                                          | 0/1 [00:23<?, ? url/s]\u001b[A\n",
      "Dl Size...:  25%|█████████▎                           | 20/80 [00:23<01:05,  1.09s/ MiB]\u001b[A\n",
      "Dl Completed...:   0%|                                          | 0/1 [00:24<?, ? url/s]\u001b[A\n",
      "Dl Size...:  26%|█████████▋                           | 21/80 [00:24<01:05,  1.11s/ MiB]\u001b[A\n",
      "Dl Completed...:   0%|                                          | 0/1 [00:25<?, ? url/s]\u001b[A\n",
      "Dl Size...:  28%|██████████▏                          | 22/80 [00:25<01:02,  1.07s/ MiB]\u001b[A\n",
      "Dl Completed...:   0%|                                          | 0/1 [00:26<?, ? url/s]\u001b[A\n",
      "Dl Size...:  29%|██████████▋                          | 23/80 [00:26<00:57,  1.01s/ MiB]\u001b[A\n",
      "Dl Completed...:   0%|                                          | 0/1 [00:27<?, ? url/s]\u001b[A\n",
      "Dl Size...:  30%|███████████                          | 24/80 [00:27<00:50,  1.10 MiB/s]\u001b[A\n",
      "Dl Completed...:   0%|                                          | 0/1 [00:28<?, ? url/s]\u001b[A\n",
      "Dl Size...:  31%|███████████▌                         | 25/80 [00:28<00:53,  1.02 MiB/s]\u001b[A\n",
      "Dl Completed...:   0%|                                          | 0/1 [00:29<?, ? url/s]\u001b[A\n",
      "Dl Size...:  32%|████████████                         | 26/80 [00:29<00:59,  1.11s/ MiB]\u001b[A\n",
      "Dl Completed...:   0%|                                          | 0/1 [00:31<?, ? url/s]\u001b[A\n",
      "Dl Size...:  34%|████████████▍                        | 27/80 [00:31<01:01,  1.16s/ MiB]\u001b[A\n",
      "Dl Completed...:   0%|                                          | 0/1 [00:32<?, ? url/s]\u001b[A\n",
      "Dl Size...:  35%|████████████▉                        | 28/80 [00:32<01:01,  1.18s/ MiB]\u001b[A\n",
      "Dl Completed...:   0%|                                          | 0/1 [00:33<?, ? url/s]\u001b[A\n",
      "Dl Size...:  36%|█████████████▍                       | 29/80 [00:33<01:02,  1.23s/ MiB]\u001b[A\n",
      "Dl Completed...:   0%|                                          | 0/1 [00:34<?, ? url/s]\u001b[A\n",
      "Dl Size...:  38%|█████████████▉                       | 30/80 [00:34<01:01,  1.23s/ MiB]\u001b[A\n",
      "Dl Completed...:   0%|                                          | 0/1 [00:35<?, ? url/s]\u001b[A\n",
      "Dl Size...:  39%|██████████████▎                      | 31/80 [00:35<00:59,  1.21s/ MiB]\u001b[A\n",
      "Dl Completed...:   0%|                                          | 0/1 [00:37<?, ? url/s]\u001b[A\n",
      "Dl Size...:  40%|██████████████▊                      | 32/80 [00:37<00:56,  1.18s/ MiB]\u001b[A\n",
      "Dl Completed...:   0%|                                          | 0/1 [00:38<?, ? url/s]\u001b[A\n",
      "Dl Size...:  41%|███████████████▎                     | 33/80 [00:38<00:58,  1.24s/ MiB]\u001b[A\n",
      "Dl Completed...:   0%|                                          | 0/1 [00:39<?, ? url/s]\u001b[A\n",
      "Dl Size...:  42%|███████████████▋                     | 34/80 [00:39<01:00,  1.31s/ MiB]\u001b[A\n",
      "Dl Completed...:   0%|                                          | 0/1 [00:41<?, ? url/s]\u001b[A\n",
      "Dl Size...:  44%|████████████████▏                    | 35/80 [00:41<01:00,  1.34s/ MiB]\u001b[A\n",
      "Dl Completed...:   0%|                                          | 0/1 [00:42<?, ? url/s]\u001b[A\n",
      "Dl Size...:  45%|████████████████▋                    | 36/80 [00:42<00:59,  1.34s/ MiB]\u001b[A\n",
      "Dl Completed...:   0%|                                          | 0/1 [00:44<?, ? url/s]\u001b[A\n",
      "Dl Size...:  46%|█████████████████                    | 37/80 [00:44<00:57,  1.34s/ MiB]\u001b[A\n",
      "Dl Completed...:   0%|                                          | 0/1 [00:45<?, ? url/s]\u001b[A\n",
      "Dl Size...:  48%|█████████████████▌                   | 38/80 [00:45<00:56,  1.34s/ MiB]\u001b[A\n",
      "Dl Completed...:   0%|                                          | 0/1 [00:46<?, ? url/s]\u001b[A\n",
      "Dl Size...:  49%|██████████████████                   | 39/80 [00:46<00:55,  1.34s/ MiB]\u001b[A\n",
      "Dl Completed...:   0%|                                          | 0/1 [00:48<?, ? url/s]\u001b[A\n",
      "Dl Size...:  50%|██████████████████▌                  | 40/80 [00:48<00:53,  1.33s/ MiB]\u001b[A\n",
      "Dl Completed...:   0%|                                          | 0/1 [00:49<?, ? url/s]\u001b[A\n",
      "Dl Size...:  51%|██████████████████▉                  | 41/80 [00:49<00:53,  1.38s/ MiB]\u001b[A\n",
      "Dl Completed...:   0%|                                          | 0/1 [00:50<?, ? url/s]\u001b[A\n",
      "Dl Size...:  52%|███████████████████▍                 | 42/80 [00:50<00:52,  1.39s/ MiB]\u001b[A\n",
      "Dl Completed...:   0%|                                          | 0/1 [00:52<?, ? url/s]\u001b[A\n",
      "Dl Size...:  54%|███████████████████▉                 | 43/80 [00:52<00:56,  1.54s/ MiB]\u001b[A\n",
      "Dl Completed...:   0%|                                          | 0/1 [00:54<?, ? url/s]\u001b[A\n",
      "Dl Size...:  55%|████████████████████▎                | 44/80 [00:54<00:51,  1.44s/ MiB]\u001b[A\n",
      "Dl Completed...:   0%|                                          | 0/1 [00:56<?, ? url/s]\u001b[A\n",
      "Dl Size...:  56%|████████████████████▊                | 45/80 [00:56<00:56,  1.61s/ MiB]\u001b[A\n",
      "Dl Completed...:   0%|                                          | 0/1 [00:57<?, ? url/s]\u001b[A\n",
      "Dl Size...:  57%|█████████████████████▎               | 46/80 [00:57<00:55,  1.64s/ MiB]\u001b[A\n",
      "Dl Completed...:   0%|                                          | 0/1 [00:59<?, ? url/s]\u001b[A\n",
      "Dl Size...:  59%|█████████████████████▋               | 47/80 [00:59<00:53,  1.61s/ MiB]\u001b[A\n",
      "Dl Completed...:   0%|                                          | 0/1 [01:00<?, ? url/s]\u001b[A\n",
      "Dl Size...:  60%|██████████████████████▏              | 48/80 [01:00<00:50,  1.59s/ MiB]\u001b[A\n",
      "Dl Completed...:   0%|                                          | 0/1 [01:02<?, ? url/s]\u001b[A\n",
      "Dl Size...:  61%|██████████████████████▋              | 49/80 [01:02<00:46,  1.49s/ MiB]\u001b[A\n",
      "Dl Completed...:   0%|                                          | 0/1 [01:03<?, ? url/s]\u001b[A\n",
      "Dl Size...:  62%|███████████████████████▏             | 50/80 [01:03<00:40,  1.36s/ MiB]\u001b[A\n",
      "Dl Completed...:   0%|                                          | 0/1 [01:04<?, ? url/s]\u001b[A\n",
      "Dl Size...:  64%|███████████████████████▌             | 51/80 [01:04<00:36,  1.27s/ MiB]\u001b[A\n",
      "Dl Completed...:   0%|                                          | 0/1 [01:05<?, ? url/s]\u001b[A\n",
      "Dl Size...:  65%|████████████████████████             | 52/80 [01:05<00:36,  1.30s/ MiB]\u001b[A\n",
      "Dl Completed...:   0%|                                          | 0/1 [01:06<?, ? url/s]\u001b[A\n",
      "Dl Size...:  66%|████████████████████████▌            | 53/80 [01:06<00:34,  1.28s/ MiB]\u001b[A\n",
      "Dl Completed...:   0%|                                          | 0/1 [01:08<?, ? url/s]\u001b[A\n",
      "Dl Size...:  68%|████████████████████████▉            | 54/80 [01:08<00:35,  1.38s/ MiB]\u001b[A\n",
      "Dl Completed...:   0%|                                          | 0/1 [01:10<?, ? url/s]\u001b[A\n",
      "Dl Size...:  69%|█████████████████████████▍           | 55/80 [01:10<00:39,  1.58s/ MiB]\u001b[A\n",
      "Dl Completed...:   0%|                                          | 0/1 [01:11<?, ? url/s]\u001b[A\n",
      "Dl Size...:  70%|█████████████████████████▉           | 56/80 [01:11<00:36,  1.53s/ MiB]\u001b[A\n",
      "Dl Completed...:   0%|                                          | 0/1 [01:13<?, ? url/s]\u001b[A\n",
      "Dl Size...:  71%|██████████████████████████▎          | 57/80 [01:13<00:33,  1.46s/ MiB]\u001b[A\n",
      "Dl Completed...:   0%|                                          | 0/1 [01:14<?, ? url/s]\u001b[A\n",
      "Dl Size...:  72%|██████████████████████████▊          | 58/80 [01:14<00:30,  1.39s/ MiB]\u001b[A\n",
      "Dl Completed...:   0%|                                          | 0/1 [01:16<?, ? url/s]\u001b[A\n",
      "Dl Size...:  74%|███████████████████████████▎         | 59/80 [01:16<00:31,  1.48s/ MiB]\u001b[A\n",
      "Dl Completed...:   0%|                                          | 0/1 [01:17<?, ? url/s]\u001b[A\n",
      "Dl Size...:  75%|███████████████████████████▊         | 60/80 [01:17<00:30,  1.54s/ MiB]\u001b[A\n",
      "Dl Completed...:   0%|                                          | 0/1 [01:19<?, ? url/s]\u001b[A\n",
      "Dl Size...:  76%|████████████████████████████▏        | 61/80 [01:19<00:31,  1.65s/ MiB]\u001b[A\n",
      "Dl Completed...:   0%|                                          | 0/1 [01:22<?, ? url/s]\u001b[A\n",
      "Dl Size...:  78%|████████████████████████████▋        | 62/80 [01:22<00:35,  1.98s/ MiB]\u001b[A\n",
      "Dl Completed...:   0%|                                          | 0/1 [01:24<?, ? url/s]\u001b[A\n",
      "Dl Size...:  79%|█████████████████████████████▏       | 63/80 [01:24<00:31,  1.86s/ MiB]\u001b[A\n",
      "Dl Completed...:   0%|                                          | 0/1 [01:25<?, ? url/s]\u001b[A\n",
      "Dl Size...:  80%|█████████████████████████████▌       | 64/80 [01:25<00:26,  1.64s/ MiB]\u001b[A\n",
      "Dl Completed...:   0%|                                          | 0/1 [01:26<?, ? url/s]\u001b[A\n",
      "Dl Size...:  81%|██████████████████████████████       | 65/80 [01:26<00:22,  1.49s/ MiB]\u001b[A\n",
      "Dl Completed...:   0%|                                          | 0/1 [01:27<?, ? url/s]\u001b[A\n",
      "Dl Size...:  82%|██████████████████████████████▌      | 66/80 [01:27<00:18,  1.34s/ MiB]\u001b[A\n",
      "Dl Completed...:   0%|                                          | 0/1 [01:28<?, ? url/s]\u001b[A\n",
      "Dl Size...:  84%|██████████████████████████████▉      | 67/80 [01:28<00:18,  1.39s/ MiB]\u001b[A\n",
      "Dl Completed...:   0%|                                          | 0/1 [01:30<?, ? url/s]\u001b[A\n",
      "Dl Size...:  85%|███████████████████████████████▍     | 68/80 [01:30<00:16,  1.38s/ MiB]\u001b[A\n",
      "Dl Completed...:   0%|                                          | 0/1 [01:31<?, ? url/s]\u001b[A\n",
      "Dl Size...:  86%|███████████████████████████████▉     | 69/80 [01:31<00:14,  1.36s/ MiB]\u001b[A\n",
      "Dl Completed...:   0%|                                          | 0/1 [01:33<?, ? url/s]\u001b[A\n",
      "Dl Size...:  88%|████████████████████████████████▍    | 70/80 [01:33<00:14,  1.42s/ MiB]\u001b[A\n",
      "Dl Completed...:   0%|                                          | 0/1 [01:34<?, ? url/s]\u001b[A\n",
      "Dl Size...:  89%|████████████████████████████████▊    | 71/80 [01:34<00:12,  1.41s/ MiB]\u001b[A\n",
      "Dl Completed...:   0%|                                          | 0/1 [01:35<?, ? url/s]\u001b[A\n",
      "Dl Size...:  90%|█████████████████████████████████▎   | 72/80 [01:35<00:10,  1.37s/ MiB]\u001b[A\n",
      "Dl Completed...:   0%|                                          | 0/1 [01:37<?, ? url/s]\u001b[A\n",
      "Dl Size...:  91%|█████████████████████████████████▊   | 73/80 [01:37<00:09,  1.36s/ MiB]\u001b[A\n",
      "Dl Completed...:   0%|                                          | 0/1 [01:38<?, ? url/s]\u001b[A\n",
      "Dl Size...:  92%|██████████████████████████████████▏  | 74/80 [01:38<00:08,  1.42s/ MiB]\u001b[A\n",
      "Dl Completed...:   0%|                                          | 0/1 [01:40<?, ? url/s]\u001b[A\n",
      "Dl Size...:  94%|██████████████████████████████████▋  | 75/80 [01:40<00:07,  1.49s/ MiB]\u001b[A\n",
      "Dl Completed...:   0%|                                          | 0/1 [01:41<?, ? url/s]\u001b[A\n",
      "Dl Size...:  95%|███████████████████████████████████▏ | 76/80 [01:41<00:05,  1.48s/ MiB]\u001b[A\n",
      "Dl Completed...:   0%|                                          | 0/1 [01:43<?, ? url/s]\u001b[A\n",
      "Dl Size...:  96%|███████████████████████████████████▌ | 77/80 [01:43<00:04,  1.46s/ MiB]\u001b[A\n",
      "Dl Completed...:   0%|                                          | 0/1 [01:44<?, ? url/s]\u001b[A\n",
      "Dl Size...:  98%|████████████████████████████████████ | 78/80 [01:44<00:02,  1.47s/ MiB]\u001b[A\n",
      "Dl Completed...:   0%|                                          | 0/1 [01:45<?, ? url/s]\u001b[A\n",
      "Dl Size...:  99%|████████████████████████████████████▌| 79/80 [01:45<00:01,  1.38s/ MiB]\u001b[A\n",
      "Dl Completed...:   0%|                                          | 0/1 [01:47<?, ? url/s]\u001b[A\n",
      "Dl Completed...: 100%|█████████████████████████████████| 1/1 [01:47<00:00, 107.41s/ url]\u001b[A\n",
      "Dl Size...: 100%|█████████████████████████████████████| 80/80 [01:47<00:00,  1.34s/ MiB]\u001b[A\n",
      "Dl Completed...: 100%|█████████████████████████████████| 1/1 [01:47<00:00, 107.44s/ url]\n",
      "Generating splits...:   0%|                                  | 0/3 [00:00<?, ? splits/s]\n",
      "Generating train examples...:   0%|                    | 0/25000 [00:00<?, ? examples/s]\u001b[A\n",
      "Generating train examples...:   0%|          | 1/25000 [00:01<7:37:29,  1.10s/ examples]\u001b[A\n",
      "Generating train examples...:   6%|▍      | 1538/25000 [00:01<00:13, 1770.24 examples/s]\u001b[A\n",
      "Generating train examples...:  13%|▉      | 3132/25000 [00:01<00:05, 3771.27 examples/s]\u001b[A\n",
      "Generating train examples...:  19%|█▎     | 4670/25000 [00:01<00:03, 5719.96 examples/s]\u001b[A\n",
      "Generating train examples...:  25%|█▋     | 6241/25000 [00:01<00:02, 7652.04 examples/s]\u001b[A\n",
      "Generating train examples...:  31%|██▏    | 7826/25000 [00:01<00:01, 9425.96 examples/s]\u001b[A\n",
      "Generating train examples...:  38%|██▎   | 9408/25000 [00:01<00:01, 10936.00 examples/s]\u001b[A\n",
      "Generating train examples...:  44%|██▏  | 10968/25000 [00:01<00:01, 12112.31 examples/s]\u001b[A\n",
      "Generating train examples...:  50%|██▌  | 12552/25000 [00:01<00:00, 13098.11 examples/s]\u001b[A\n",
      "Generating train examples...:  57%|██▊  | 14140/25000 [00:01<00:00, 13860.26 examples/s]\u001b[A\n",
      "Generating train examples...:  63%|███▏ | 15699/25000 [00:02<00:00, 14318.30 examples/s]\u001b[A\n",
      "Generating train examples...:  69%|███▍ | 17271/25000 [00:02<00:00, 14717.93 examples/s]\u001b[A\n",
      "Generating train examples...:  75%|███▊ | 18867/25000 [00:02<00:00, 15076.89 examples/s]\u001b[A\n",
      "Generating train examples...:  82%|████ | 20451/25000 [00:02<00:00, 15299.83 examples/s]\u001b[A\n",
      "Generating train examples...:  88%|████▍| 22026/25000 [00:02<00:00, 15427.03 examples/s]\u001b[A\n",
      "Generating train examples...:  94%|████▋| 23601/25000 [00:02<00:00, 15520.83 examples/s]\u001b[A\n",
      "                                                                                        \u001b[A\n",
      "Shuffling /Users/elliottevans/tensorflow_datasets/imdb_reviews/plain_text/1.0.0.incomple\u001b[A\n",
      "Shuffling /Users/elliottevans/tensorflow_datasets/imdb_reviews/plain_text/1.0.0.incomple\u001b[A\n",
      "Generating splits...:  33%|████████▋                 | 1/3 [00:04<00:09,  4.64s/ splits]\u001b[A\n",
      "Generating test examples...:   0%|                     | 0/25000 [00:00<?, ? examples/s]\u001b[A\n",
      "Generating test examples...:   0%|           | 1/25000 [00:00<1:57:43,  3.54 examples/s]\u001b[A\n",
      "Generating test examples...:   6%|▌       | 1593/25000 [00:00<00:04, 5347.73 examples/s]\u001b[A\n",
      "Generating test examples...:  13%|█       | 3176/25000 [00:00<00:02, 8744.92 examples/s]\u001b[A\n",
      "Generating test examples...:  19%|█▎     | 4776/25000 [00:00<00:01, 11040.80 examples/s]\u001b[A\n",
      "Generating test examples...:  25%|█▊     | 6367/25000 [00:00<00:01, 12556.57 examples/s]\u001b[A\n",
      "Generating test examples...:  32%|██▏    | 7956/25000 [00:00<00:01, 13582.33 examples/s]\u001b[A\n",
      "Generating test examples...:  38%|██▋    | 9553/25000 [00:00<00:01, 14309.49 examples/s]\u001b[A\n",
      "Generating test examples...:  45%|██▋   | 11131/25000 [00:00<00:00, 14755.68 examples/s]\u001b[A\n",
      "Generating test examples...:  51%|███   | 12700/25000 [00:01<00:00, 15037.83 examples/s]\u001b[A\n",
      "Generating test examples...:  57%|███▍  | 14254/25000 [00:01<00:00, 14989.96 examples/s]\u001b[A\n",
      "Generating test examples...:  63%|███▊  | 15788/25000 [00:01<00:00, 15037.13 examples/s]\u001b[A\n",
      "Generating test examples...:  69%|████▏ | 17360/25000 [00:01<00:00, 15239.77 examples/s]\u001b[A\n",
      "Generating test examples...:  76%|████▌ | 18933/25000 [00:01<00:00, 15385.78 examples/s]\u001b[A\n",
      "Generating test examples...:  82%|████▉ | 20531/25000 [00:01<00:00, 15563.04 examples/s]\u001b[A\n",
      "Generating test examples...:  88%|█████▎| 22104/25000 [00:01<00:00, 15612.87 examples/s]\u001b[A\n",
      "Generating test examples...:  95%|█████▋| 23687/25000 [00:01<00:00, 15675.57 examples/s]\u001b[A\n",
      "                                                                                        \u001b[A\n",
      "Shuffling /Users/elliottevans/tensorflow_datasets/imdb_reviews/plain_text/1.0.0.incomple\u001b[A\n",
      "Shuffling /Users/elliottevans/tensorflow_datasets/imdb_reviews/plain_text/1.0.0.incomple\u001b[A\n",
      "Generating splits...:  67%|█████████████████▎        | 2/3 [00:09<00:04,  4.51s/ splits]\u001b[A\n",
      "Generating unsupervised examples...:   0%|             | 0/50000 [00:00<?, ? examples/s]\u001b[A\n",
      "Generating unsupervised examples...:   0%|  | 1/50000 [00:01<26:49:08,  1.93s/ examples]\u001b[A\n",
      "Generating unsupervised examples...:   3%| | 1591/50000 [00:02<00:44, 1095.72 examples/s\u001b[A\n",
      "Generating unsupervised examples...:   6%| | 3153/50000 [00:02<00:19, 2396.83 examples/s\u001b[A\n",
      "Generating unsupervised examples...:   9%| | 4375/50000 [00:02<00:13, 3474.27 examples/s\u001b[A\n",
      "Generating unsupervised examples...:  12%| | 5870/50000 [00:02<00:08, 5059.77 examples/s\u001b[A\n",
      "Generating unsupervised examples...:  15%|▏| 7444/50000 [00:02<00:06, 6820.43 examples/s\u001b[A\n",
      "Generating unsupervised examples...:  18%|▏| 9031/50000 [00:02<00:04, 8545.23 examples/s\u001b[A\n",
      "Generating unsupervised examples...:  21%|▏| 10611/50000 [00:02<00:03, 10097.06 examples\u001b[A\n",
      "Generating unsupervised examples...:  24%|▏| 12218/50000 [00:02<00:03, 11493.25 examples\u001b[A\n",
      "Generating unsupervised examples...:  28%|▎| 13812/50000 [00:02<00:02, 12597.06 examples\u001b[A\n",
      "Generating unsupervised examples...:  31%|▎| 15376/50000 [00:02<00:02, 13398.04 examples\u001b[A\n",
      "Generating unsupervised examples...:  34%|▎| 16962/50000 [00:03<00:02, 14069.26 examples\u001b[A\n",
      "Generating unsupervised examples...:  37%|▎| 18537/50000 [00:03<00:02, 14538.32 examples\u001b[A\n",
      "Generating unsupervised examples...:  40%|▍| 20127/50000 [00:03<00:02, 14925.92 examples\u001b[A\n",
      "Generating unsupervised examples...:  43%|▍| 21709/50000 [00:03<00:01, 15183.18 examples\u001b[A\n",
      "Generating unsupervised examples...:  47%|▍| 23285/50000 [00:03<00:01, 15338.56 examples\u001b[A\n",
      "Generating unsupervised examples...:  50%|▍| 24867/50000 [00:03<00:01, 15479.75 examples\u001b[A\n",
      "Generating unsupervised examples...:  53%|▌| 26444/50000 [00:03<00:01, 15559.64 examples\u001b[A\n",
      "Generating unsupervised examples...:  56%|▌| 28043/50000 [00:03<00:01, 15684.82 examples\u001b[A\n",
      "Generating unsupervised examples...:  59%|▌| 29626/50000 [00:03<00:01, 15695.82 examples\u001b[A\n",
      "Generating unsupervised examples...:  62%|▌| 31206/50000 [00:03<00:01, 15561.52 examples\u001b[A\n",
      "Generating unsupervised examples...:  66%|▋| 32770/50000 [00:04<00:01, 15408.58 examples\u001b[A\n",
      "Generating unsupervised examples...:  69%|▋| 34317/50000 [00:04<00:01, 15424.16 examples\u001b[A\n",
      "Generating unsupervised examples...:  72%|▋| 35912/50000 [00:04<00:00, 15579.30 examples\u001b[A\n",
      "Generating unsupervised examples...:  75%|▋| 37489/50000 [00:04<00:00, 15632.32 examples\u001b[A\n",
      "Generating unsupervised examples...:  78%|▊| 39055/50000 [00:04<00:00, 15606.97 examples\u001b[A\n",
      "Generating unsupervised examples...:  81%|▊| 40634/50000 [00:04<00:00, 15660.40 examples\u001b[A\n",
      "Generating unsupervised examples...:  84%|▊| 42219/50000 [00:04<00:00, 15715.88 examples\u001b[A\n",
      "Generating unsupervised examples...:  88%|▉| 43801/50000 [00:04<00:00, 15746.27 examples\u001b[A\n",
      "Generating unsupervised examples...:  91%|▉| 45377/50000 [00:04<00:00, 15739.13 examples\u001b[A\n",
      "Generating unsupervised examples...:  94%|▉| 46952/50000 [00:04<00:00, 15726.98 examples\u001b[A\n",
      "Generating unsupervised examples...:  97%|▉| 48533/50000 [00:05<00:00, 15751.55 examples\u001b[A\n",
      "                                                                                        \u001b[A\n",
      "Shuffling /Users/elliottevans/tensorflow_datasets/imdb_reviews/plain_text/1.0.0.incomple\u001b[A\n",
      "Shuffling /Users/elliottevans/tensorflow_datasets/imdb_reviews/plain_text/1.0.0.incomple\u001b[A\n",
      "Shuffling /Users/elliottevans/tensorflow_datasets/imdb_reviews/plain_text/1.0.0.incomple\u001b[A\n",
      "2022-10-19 17:01:26.841203: I tensorflow/core/common_runtime/pluggable_device/pluggable_device_factory.cc:306] Could not identify NUMA node of platform GPU ID 0, defaulting to 0. Your kernel may not have been built with NUMA support.\n",
      "2022-10-19 17:01:26.842072: I tensorflow/core/common_runtime/pluggable_device/pluggable_device_factory.cc:272] Created TensorFlow device (/job:localhost/replica:0/task:0/device:GPU:0 with 0 MB memory) -> physical PluggableDevice (device: 0, name: METAL, pci bus id: <undefined>)\n"
     ]
    },
    {
     "name": "stdout",
     "output_type": "stream",
     "text": [
      "\u001b[1mDataset imdb_reviews downloaded and prepared to /Users/elliottevans/tensorflow_datasets/imdb_reviews/plain_text/1.0.0. Subsequent calls will reuse this data.\u001b[0m\n",
      "Metal device set to: Apple M1\n"
     ]
    }
   ],
   "source": [
    "import tensorflow_datasets as tfds\n",
    "\n",
    "# Load the IMDB Reviews dataset\n",
    "imdb, info = tfds.load(\"imdb_reviews\", with_info=True, as_supervised=True)"
   ]
  },
  {
   "cell_type": "code",
   "execution_count": 3,
   "metadata": {
    "id": "J3PEarpKw9_j"
   },
   "outputs": [
    {
     "name": "stdout",
     "output_type": "stream",
     "text": [
      "tfds.core.DatasetInfo(\n",
      "    name='imdb_reviews',\n",
      "    full_name='imdb_reviews/1.0.0',\n",
      "    description=\"\"\"\n",
      "    Large Movie Review Dataset.\n",
      "    This is a dataset for binary sentiment classification containing substantially more data than previous benchmark datasets. We provide a set of 25,000 highly polar movie reviews for training, and 25,000 for testing. There is additional unlabeled data for use as well.\n",
      "    \"\"\",\n",
      "    config_description=\"\"\"\n",
      "    Plain text\n",
      "    \"\"\",\n",
      "    homepage='http://ai.stanford.edu/~amaas/data/sentiment/',\n",
      "    data_path='/var/folders/hm/_38_lcyj6r3bnwwpz7ztvd2w0000gn/T/tmpvqxw38o4tfds',\n",
      "    file_format=tfrecord,\n",
      "    download_size=80.23 MiB,\n",
      "    dataset_size=129.83 MiB,\n",
      "    features=FeaturesDict({\n",
      "        'label': ClassLabel(shape=(), dtype=tf.int64, num_classes=2),\n",
      "        'text': Text(shape=(), dtype=tf.string),\n",
      "    }),\n",
      "    supervised_keys=('text', 'label'),\n",
      "    disable_shuffling=False,\n",
      "    splits={\n",
      "        'test': <SplitInfo num_examples=25000, num_shards=1>,\n",
      "        'train': <SplitInfo num_examples=25000, num_shards=1>,\n",
      "        'unsupervised': <SplitInfo num_examples=50000, num_shards=1>,\n",
      "    },\n",
      "    citation=\"\"\"@InProceedings{maas-EtAl:2011:ACL-HLT2011,\n",
      "      author    = {Maas, Andrew L.  and  Daly, Raymond E.  and  Pham, Peter T.  and  Huang, Dan  and  Ng, Andrew Y.  and  Potts, Christopher},\n",
      "      title     = {Learning Word Vectors for Sentiment Analysis},\n",
      "      booktitle = {Proceedings of the 49th Annual Meeting of the Association for Computational Linguistics: Human Language Technologies},\n",
      "      month     = {June},\n",
      "      year      = {2011},\n",
      "      address   = {Portland, Oregon, USA},\n",
      "      publisher = {Association for Computational Linguistics},\n",
      "      pages     = {142--150},\n",
      "      url       = {http://www.aclweb.org/anthology/P11-1015}\n",
      "    }\"\"\",\n",
      ")\n"
     ]
    }
   ],
   "source": [
    "# Print information about the dataset\n",
    "print(info)"
   ]
  },
  {
   "cell_type": "markdown",
   "metadata": {
    "id": "kLRAoHil5poj"
   },
   "source": [
    "As you can see in the output above, there is a total of 100,000 examples in the dataset and it is split into `train`, `test` and `unsupervised` sets. For this lab, you will only use `train` and `test` sets because you will need labeled examples to train your model."
   ]
  },
  {
   "cell_type": "markdown",
   "metadata": {
    "id": "5EzNDkdkpvrv"
   },
   "source": [
    "## Split the dataset\n",
    "\n",
    "If you try printing the `imdb` dataset that you downloaded earlier, you will see that it contains the dictionary that points to [`tf.data.Dataset`](https://www.tensorflow.org/api_docs/python/tf/data/Dataset) objects. You will explore more of this class and its API in Course 4 of this specialization. For now, you can just think of it as a collection of examples."
   ]
  },
  {
   "cell_type": "code",
   "execution_count": 4,
   "metadata": {
    "id": "tA5397cs-EwN"
   },
   "outputs": [
    {
     "name": "stdout",
     "output_type": "stream",
     "text": [
      "{Split('train'): <PrefetchDataset element_spec=(TensorSpec(shape=(), dtype=tf.string, name=None), TensorSpec(shape=(), dtype=tf.int64, name=None))>, Split('test'): <PrefetchDataset element_spec=(TensorSpec(shape=(), dtype=tf.string, name=None), TensorSpec(shape=(), dtype=tf.int64, name=None))>, Split('unsupervised'): <PrefetchDataset element_spec=(TensorSpec(shape=(), dtype=tf.string, name=None), TensorSpec(shape=(), dtype=tf.int64, name=None))>}\n"
     ]
    }
   ],
   "source": [
    "# Print the contents of the dataset you downloaded\n",
    "print(imdb)"
   ]
  },
  {
   "cell_type": "markdown",
   "metadata": {
    "id": "L4oiQ0waBduJ"
   },
   "source": [
    "You can preview the raw format of a few examples by using the [`take()`](https://www.tensorflow.org/api_docs/python/tf/data/Dataset#take) method and iterating over it as shown below:"
   ]
  },
  {
   "cell_type": "code",
   "execution_count": 5,
   "metadata": {
    "id": "2NgUwTDu7Q1O"
   },
   "outputs": [
    {
     "name": "stdout",
     "output_type": "stream",
     "text": [
      "(<tf.Tensor: shape=(), dtype=string, numpy=b\"This was an absolutely terrible movie. Don't be lured in by Christopher Walken or Michael Ironside. Both are great actors, but this must simply be their worst role in history. Even their great acting could not redeem this movie's ridiculous storyline. This movie is an early nineties US propaganda piece. The most pathetic scenes were those when the Columbian rebels were making their cases for revolutions. Maria Conchita Alonso appeared phony, and her pseudo-love affair with Walken was nothing but a pathetic emotional plug in a movie that was devoid of any real meaning. I am disappointed that there are movies like this, ruining actor's like Christopher Walken's good name. I could barely sit through it.\">, <tf.Tensor: shape=(), dtype=int64, numpy=0>)\n",
      "(<tf.Tensor: shape=(), dtype=string, numpy=b'I have been known to fall asleep during films, but this is usually due to a combination of things including, really tired, being warm and comfortable on the sette and having just eaten a lot. However on this occasion I fell asleep because the film was rubbish. The plot development was constant. Constantly slow and boring. Things seemed to happen, but with no explanation of what was causing them or why. I admit, I may have missed part of the film, but i watched the majority of it and everything just seemed to happen of its own accord without any real concern for anything else. I cant recommend this film at all.'>, <tf.Tensor: shape=(), dtype=int64, numpy=0>)\n"
     ]
    },
    {
     "name": "stderr",
     "output_type": "stream",
     "text": [
      "2022-10-19 17:03:14.907762: W tensorflow/core/platform/profile_utils/cpu_utils.cc:128] Failed to get CPU frequency: 0 Hz\n",
      "2022-10-19 17:03:14.937280: W tensorflow/core/kernels/data/cache_dataset_ops.cc:856] The calling iterator did not fully read the dataset being cached. In order to avoid unexpected truncation of the dataset, the partially cached contents of the dataset  will be discarded. This can happen if you have an input pipeline similar to `dataset.cache().take(k).repeat()`. You should use `dataset.take(k).cache().repeat()` instead.\n"
     ]
    }
   ],
   "source": [
    "# Take 2 training examples and print its contents\n",
    "# 1 is positive review, 0 is negative review\n",
    "for example in imdb[\"train\"].take(2):\n",
    "    print(example)"
   ]
  },
  {
   "cell_type": "markdown",
   "metadata": {
    "id": "hOtXX2gxB8pe"
   },
   "source": [
    "You can see that each example is a 2-element tuple of tensors containing the text first, then the label (shown in the `numpy()` property). The next cell below will take all the `train` and `test` sentences and labels into separate lists so you can preprocess the text and feed it to the model later."
   ]
  },
  {
   "cell_type": "code",
   "execution_count": 6,
   "metadata": {
    "id": "wHQ2Ko0zl7M4"
   },
   "outputs": [],
   "source": [
    "import numpy as np\n",
    "\n",
    "# Get the train and test sets\n",
    "train_data, test_data = imdb[\"train\"], imdb[\"test\"]\n",
    "\n",
    "# Initialize sentences and labels lists\n",
    "training_sentences = []\n",
    "training_labels = []\n",
    "\n",
    "testing_sentences = []\n",
    "testing_labels = []\n",
    "\n",
    "# Loop over all training examples and save the sentences and labels\n",
    "for s, l in train_data:\n",
    "    training_sentences.append(s.numpy().decode(\"utf8\"))\n",
    "    training_labels.append(l.numpy())\n",
    "\n",
    "# Loop over all test examples and save the sentences and labels\n",
    "for s, l in test_data:\n",
    "    testing_sentences.append(s.numpy().decode(\"utf8\"))\n",
    "    testing_labels.append(l.numpy())\n",
    "\n",
    "# Convert labels lists to numpy array\n",
    "training_labels_final = np.array(training_labels)\n",
    "testing_labels_final = np.array(testing_labels)"
   ]
  },
  {
   "cell_type": "code",
   "execution_count": 12,
   "metadata": {},
   "outputs": [
    {
     "data": {
      "text/plain": [
       "\"I saw House Party 1-3 and I loved them but this one wasn't funny at all.First it can't be a House Party movie without Kid n'Play right? This one sucks and it was more like a black version of Ferris Bueller's Day Off than a House Party movie.Second who the heck is John-John?These new character's can't even compare to the ones from the other three movies.Now i know why they put it straight to video.It has horrible music, weak plot, untalented actors,and no hilarious jokes at all.My advice,watch this movie at night only if you can't get to sleep.They should have ended the series after House Party 3 since Kid'n'Play separated after that one.I hate this one am glad my local video store doesn't have this film and never want to buy it or want to see it on Comedy Central either.Just because Chris Strokes has talent managing an up-and-coming R&B group doesn't mean he has talent directing and producing films am I right or what? Finally, the female characters were all dressed up like cheap two-dollar hookers throughout most of the flick.IMX separated a year after this flick got released probably due to the failure of this film and are all but forgotten nowadays. In simplier terms this movie just plain old sucks!!!!\""
      ]
     },
     "execution_count": 12,
     "metadata": {},
     "output_type": "execute_result"
    }
   ],
   "source": [
    "testing_sentences[42]"
   ]
  },
  {
   "cell_type": "code",
   "execution_count": 13,
   "metadata": {},
   "outputs": [
    {
     "data": {
      "text/plain": [
       "0"
      ]
     },
     "execution_count": 13,
     "metadata": {},
     "output_type": "execute_result"
    }
   ],
   "source": [
    "testing_labels_final[42]"
   ]
  },
  {
   "cell_type": "markdown",
   "metadata": {
    "id": "ePTIgXj3q8Sg"
   },
   "source": [
    "## Generate Padded Sequences\n",
    "\n",
    "Now you can do the text preprocessing steps you've learned last week. You will tokenize the sentences and pad them to a uniform length. We've separated the parameters into its own code cell below so it will be easy for you to tweak it later if you want."
   ]
  },
  {
   "cell_type": "code",
   "execution_count": 14,
   "metadata": {
    "id": "lggoZqYUGYgX"
   },
   "outputs": [],
   "source": [
    "# Parameters\n",
    "\n",
    "vocab_size = 10000\n",
    "max_length = 120\n",
    "embedding_dim = 16\n",
    "trunc_type = \"post\"\n",
    "oov_tok = \"<OOV>\""
   ]
  },
  {
   "cell_type": "code",
   "execution_count": 16,
   "metadata": {
    "id": "7n15yyMdmoH1"
   },
   "outputs": [],
   "source": [
    "from tensorflow.keras.preprocessing.text import Tokenizer\n",
    "from tensorflow.keras.preprocessing.sequence import pad_sequences\n",
    "\n",
    "# Initialize the Tokenizer class\n",
    "tokenizer = Tokenizer(num_words=vocab_size, oov_token=oov_tok)\n",
    "\n",
    "# Generate the word index dictionary for the training sentences\n",
    "tokenizer.fit_on_texts(training_sentences)\n",
    "word_index = tokenizer.word_index\n",
    "\n",
    "# Generate and pad the training sequences\n",
    "sequences = tokenizer.texts_to_sequences(training_sentences)\n",
    "padded = pad_sequences(sequences, maxlen=max_length, truncating=trunc_type)\n",
    "\n",
    "# Generate and pad the test sequences\n",
    "testing_sequences = tokenizer.texts_to_sequences(testing_sentences)\n",
    "testing_padded = pad_sequences(\n",
    "    testing_sequences, maxlen=max_length, truncating=trunc_type\n",
    ")"
   ]
  },
  {
   "cell_type": "code",
   "execution_count": 17,
   "metadata": {},
   "outputs": [
    {
     "data": {
      "text/plain": [
       "(25000, 120)"
      ]
     },
     "execution_count": 17,
     "metadata": {},
     "output_type": "execute_result"
    }
   ],
   "source": [
    "padded.shape"
   ]
  },
  {
   "cell_type": "code",
   "execution_count": 32,
   "metadata": {},
   "outputs": [
    {
     "data": {
      "text/plain": [
       "\"This was an absolutely terrible movie. Don't be lured in by Christopher Walken or Michael Ironside. Both are great actors, but this must simply be their worst role in history. Even their great acting could not redeem this movie's ridiculous storyline. This movie is an early nineties US propaganda piece. The most pathetic scenes were those when the Columbian rebels were making their cases for revolutions. Maria Conchita Alonso appeared phony, and her pseudo-love affair with Walken was nothing but a pathetic emotional plug in a movie that was devoid of any real meaning. I am disappointed that there are movies like this, ruining actor's like Christopher Walken's good name. I could barely sit through it.\""
      ]
     },
     "execution_count": 32,
     "metadata": {},
     "output_type": "execute_result"
    }
   ],
   "source": [
    "training_sentences[0]"
   ]
  },
  {
   "cell_type": "code",
   "execution_count": 29,
   "metadata": {},
   "outputs": [
    {
     "data": {
      "text/plain": [
       "['this', 'was', 'movie', 'an', \"don't\", 'terrible', 'absolutely']"
      ]
     },
     "execution_count": 29,
     "metadata": {},
     "output_type": "execute_result"
    }
   ],
   "source": [
    "[k for k in word_index if word_index[k] in (12, 14, 33, 425, 392, 18, 90)]"
   ]
  },
  {
   "cell_type": "code",
   "execution_count": 25,
   "metadata": {},
   "outputs": [
    {
     "data": {
      "text/plain": [
       "array([   0,    0,    0,   12,   14,   33,  425,  392,   18,   90,   28,\n",
       "          1,    9,   32, 1366], dtype=int32)"
      ]
     },
     "execution_count": 25,
     "metadata": {},
     "output_type": "execute_result"
    }
   ],
   "source": [
    "padded[0, 0:15]"
   ]
  },
  {
   "cell_type": "markdown",
   "metadata": {
    "id": "N2rCmp7ArGL_"
   },
   "source": [
    "## Build and Compile the Model\n",
    "\n",
    "With the data already preprocessed, you can proceed to building your sentiment classification model. The input will be an [`Embedding`](https://www.tensorflow.org/api_docs/python/tf/keras/layers/Embedding) layer. The main idea here is to represent each word in your vocabulary with vectors. These vectors have trainable weights so as your neural network learns, words that are most likely to appear in a positive tweet will converge towards similar weights. Similarly, words in negative tweets will be clustered more closely together. You can read more about word embeddings [here](https://www.tensorflow.org/text/guide/word_embeddings).\n",
    "\n",
    "After the `Embedding` layer, you will flatten its output and feed it into a `Dense` layer. You will explore other architectures for these hidden layers in the next labs.\n",
    "\n",
    "The output layer would be a single neuron with a sigmoid activation to distinguish between the 2 classes. As is typical with binary classifiers, you will use the `binary_crossentropy` as your loss function while training."
   ]
  },
  {
   "cell_type": "code",
   "execution_count": 54,
   "metadata": {
    "id": "5NEpdhb8AxID"
   },
   "outputs": [
    {
     "name": "stdout",
     "output_type": "stream",
     "text": [
      "Model: \"sequential_4\"\n",
      "_________________________________________________________________\n",
      " Layer (type)                Output Shape              Param #   \n",
      "=================================================================\n",
      " embedding_4 (Embedding)     (None, 120, 16)           160000    \n",
      "                                                                 \n",
      " flatten_4 (Flatten)         (None, 1920)              0         \n",
      "                                                                 \n",
      " dense_8 (Dense)             (None, 6)                 11526     \n",
      "                                                                 \n",
      " dense_9 (Dense)             (None, 1)                 7         \n",
      "                                                                 \n",
      "=================================================================\n",
      "Total params: 171,533\n",
      "Trainable params: 171,533\n",
      "Non-trainable params: 0\n",
      "_________________________________________________________________\n"
     ]
    }
   ],
   "source": [
    "import tensorflow as tf\n",
    "\n",
    "# Build the model\n",
    "model = tf.keras.Sequential(\n",
    "    [\n",
    "        tf.keras.layers.Embedding(input_dim=vocab_size, output_dim=embedding_dim, input_length=max_length),\n",
    "        tf.keras.layers.Flatten(),\n",
    "        tf.keras.layers.Dense(6, activation=\"relu\"),\n",
    "        tf.keras.layers.Dense(1, activation=\"sigmoid\"),\n",
    "    ]\n",
    ")\n",
    "\n",
    "# Setup the training parameters\n",
    "model.compile(loss=\"binary_crossentropy\", optimizer=\"adam\", metrics=[\"accuracy\"])\n",
    "\n",
    "# Print the model summary\n",
    "model.summary()"
   ]
  },
  {
   "cell_type": "markdown",
   "metadata": {},
   "source": [
    "### Update model to use `GlobalAveragePooling1D`"
   ]
  },
  {
   "cell_type": "code",
   "execution_count": 55,
   "metadata": {},
   "outputs": [
    {
     "name": "stdout",
     "output_type": "stream",
     "text": [
      "Model: \"sequential_5\"\n",
      "_________________________________________________________________\n",
      " Layer (type)                Output Shape              Param #   \n",
      "=================================================================\n",
      " embedding_5 (Embedding)     (None, 120, 16)           160000    \n",
      "                                                                 \n",
      " global_average_pooling1d_1   (None, 16)               0         \n",
      " (GlobalAveragePooling1D)                                        \n",
      "                                                                 \n",
      " dense_10 (Dense)            (None, 6)                 102       \n",
      "                                                                 \n",
      " dense_11 (Dense)            (None, 1)                 7         \n",
      "                                                                 \n",
      "=================================================================\n",
      "Total params: 160,109\n",
      "Trainable params: 160,109\n",
      "Non-trainable params: 0\n",
      "_________________________________________________________________\n"
     ]
    }
   ],
   "source": [
    "import tensorflow as tf\n",
    "\n",
    "# Build the model\n",
    "model = tf.keras.Sequential(\n",
    "    [\n",
    "        tf.keras.layers.Embedding(input_dim=vocab_size, output_dim=embedding_dim, input_length=max_length),\n",
    "        tf.keras.layers.GlobalAveragePooling1D(),\n",
    "        tf.keras.layers.Dense(6, activation=\"relu\"),\n",
    "        tf.keras.layers.Dense(1, activation=\"sigmoid\"),\n",
    "    ]\n",
    ")\n",
    "\n",
    "# Setup the training parameters\n",
    "model.compile(loss=\"binary_crossentropy\", optimizer=\"adam\", metrics=[\"accuracy\"])\n",
    "\n",
    "# Print the model summary\n",
    "model.summary()"
   ]
  },
  {
   "cell_type": "code",
   "execution_count": 62,
   "metadata": {},
   "outputs": [],
   "source": [
    "import os\n",
    "import datetime\n",
    "\n",
    "logdir = os.path.join(\"logs\", datetime.datetime.now().strftime(\"%Y%m%d-%H%M%S\"))\n",
    "tensorboard_callback = tf.keras.callbacks.TensorBoard(logdir, histogram_freq=1)"
   ]
  },
  {
   "cell_type": "markdown",
   "metadata": {
    "id": "e8gbnoRdqp8O"
   },
   "source": [
    "## Train the Model\n",
    "\n",
    "Next, of course, is to train your model. With the current settings, you will get near perfect training accuracy after just 5 epochs but the validation accuracy will plateau at around 83%. See if you can still improve this by adjusting some of the parameters earlier (e.g. the `vocab_size`, number of `Dense` neurons, number of epochs, etc.). "
   ]
  },
  {
   "cell_type": "code",
   "execution_count": 63,
   "metadata": {
    "id": "V5LLrXC-uNX6"
   },
   "outputs": [
    {
     "name": "stdout",
     "output_type": "stream",
     "text": [
      "Epoch 1/10\n",
      "782/782 [==============================] - 9s 11ms/step - loss: 0.1160 - accuracy: 0.9627 - val_loss: 0.6403 - val_accuracy: 0.8024\n",
      "Epoch 2/10\n",
      "782/782 [==============================] - 8s 10ms/step - loss: 0.1061 - accuracy: 0.9673 - val_loss: 0.6824 - val_accuracy: 0.7992\n",
      "Epoch 3/10\n",
      "782/782 [==============================] - 9s 12ms/step - loss: 0.0967 - accuracy: 0.9716 - val_loss: 0.7261 - val_accuracy: 0.7968\n",
      "Epoch 4/10\n",
      "782/782 [==============================] - 13s 17ms/step - loss: 0.0878 - accuracy: 0.9760 - val_loss: 0.8103 - val_accuracy: 0.7882\n",
      "Epoch 5/10\n",
      "782/782 [==============================] - 8s 10ms/step - loss: 0.0799 - accuracy: 0.9778 - val_loss: 0.8425 - val_accuracy: 0.7900\n",
      "Epoch 6/10\n",
      "782/782 [==============================] - 8s 10ms/step - loss: 0.0732 - accuracy: 0.9804 - val_loss: 0.9111 - val_accuracy: 0.7860\n",
      "Epoch 7/10\n",
      "782/782 [==============================] - 8s 10ms/step - loss: 0.0665 - accuracy: 0.9843 - val_loss: 0.9687 - val_accuracy: 0.7820\n",
      "Epoch 8/10\n",
      "782/782 [==============================] - 8s 10ms/step - loss: 0.0598 - accuracy: 0.9864 - val_loss: 1.0278 - val_accuracy: 0.7812\n",
      "Epoch 9/10\n",
      "782/782 [==============================] - 8s 10ms/step - loss: 0.0545 - accuracy: 0.9883 - val_loss: 1.0821 - val_accuracy: 0.7788\n",
      "Epoch 10/10\n",
      "782/782 [==============================] - 8s 10ms/step - loss: 0.0496 - accuracy: 0.9893 - val_loss: 1.1319 - val_accuracy: 0.7792\n"
     ]
    },
    {
     "data": {
      "text/plain": [
       "<keras.callbacks.History at 0x17a628520>"
      ]
     },
     "execution_count": 63,
     "metadata": {},
     "output_type": "execute_result"
    }
   ],
   "source": [
    "num_epochs = 10\n",
    "\n",
    "# Train the model\n",
    "model.fit(\n",
    "    x=padded,\n",
    "    y=training_labels_final,\n",
    "    epochs=num_epochs,\n",
    "    validation_data=(testing_padded, testing_labels_final),\n",
    "    callbacks=[tensorboard_callback],\n",
    ")"
   ]
  },
  {
   "cell_type": "markdown",
   "metadata": {},
   "source": [
    "### Visualize performance with `tensorboard`"
   ]
  },
  {
   "cell_type": "code",
   "execution_count": 66,
   "metadata": {},
   "outputs": [
    {
     "data": {
      "text/html": [
       "\n",
       "      <iframe id=\"tensorboard-frame-a7aff20096315009\" width=\"100%\" height=\"800\" frameborder=\"0\">\n",
       "      </iframe>\n",
       "      <script>\n",
       "        (function() {\n",
       "          const frame = document.getElementById(\"tensorboard-frame-a7aff20096315009\");\n",
       "          const url = new URL(\"/\", window.location);\n",
       "          const port = 6006;\n",
       "          if (port) {\n",
       "            url.port = port;\n",
       "          }\n",
       "          frame.src = url;\n",
       "        })();\n",
       "      </script>\n",
       "    "
      ],
      "text/plain": [
       "<IPython.core.display.HTML object>"
      ]
     },
     "metadata": {},
     "output_type": "display_data"
    }
   ],
   "source": [
    "%tensorboard --logdir logs"
   ]
  },
  {
   "cell_type": "markdown",
   "metadata": {
    "id": "mroDvjEJqwm4"
   },
   "source": [
    "## Visualize Word Embeddings\n",
    "\n",
    "After training, you can visualize the trained weights in the `Embedding` layer to see words that are clustered together. The [Tensorflow Embedding Projector](https://projector.tensorflow.org/) is able to reduce the 16-dimension vectors you defined earlier into fewer components so it can be plotted in the projector. First, you will need to get these weights and you can do that with the cell below:"
   ]
  },
  {
   "cell_type": "code",
   "execution_count": 40,
   "metadata": {
    "id": "yAmjJqEyCOF_"
   },
   "outputs": [
    {
     "name": "stdout",
     "output_type": "stream",
     "text": [
      "(10000, 16)\n"
     ]
    }
   ],
   "source": [
    "# Get the embedding layer from the model (i.e. first layer)\n",
    "embedding_layer = model.layers[0]\n",
    "\n",
    "# Get the weights of the embedding layer (i.e. the embedding matrix)\n",
    "embedding_weights = embedding_layer.get_weights()[0]\n",
    "\n",
    "# Print the shape. Expected is (vocab_size, embedding_dim)\n",
    "print(embedding_weights.shape)"
   ]
  },
  {
   "cell_type": "markdown",
   "metadata": {
    "id": "DEuG9AqIuF6i"
   },
   "source": [
    "You will need to generate two files:\n",
    "\n",
    "* `vecs.tsv` - contains the vector weights of each word in the vocabulary\n",
    "* `meta.tsv` - contains the words in the vocabulary"
   ]
  },
  {
   "cell_type": "markdown",
   "metadata": {
    "id": "1u4Ty097uRYP"
   },
   "source": [
    "For this, it is useful to have `reverse_word_index` dictionary so you can quickly lookup a word based on a given index. For example, `reverse_word_index[1]` will return your OOV token because it is always at index = 1. Fortunately, the `Tokenizer` class already provides this dictionary through its `index_word` property. Yes, as the name implies, it is the reverse of the `word_index` property which you used earlier!"
   ]
  },
  {
   "cell_type": "code",
   "execution_count": null,
   "metadata": {
    "id": "pPhhHqvxvS8f"
   },
   "outputs": [],
   "source": [
    "# Get the index-word dictionary\n",
    "reverse_word_index = tokenizer.index_word"
   ]
  },
  {
   "cell_type": "markdown",
   "metadata": {
    "id": "ykM0Q9ThvszB"
   },
   "source": [
    "Now you can start the loop to generate the files. You will loop `vocab_size-1` times, skipping the `0` key because it is just for the padding."
   ]
  },
  {
   "cell_type": "code",
   "execution_count": null,
   "metadata": {
    "id": "jmB0Uxk0ycP6"
   },
   "outputs": [],
   "source": [
    "import io\n",
    "\n",
    "# Open writeable files\n",
    "out_v = io.open(\"vecs.tsv\", \"w\", encoding=\"utf-8\")\n",
    "out_m = io.open(\"meta.tsv\", \"w\", encoding=\"utf-8\")\n",
    "\n",
    "# Initialize the loop. Start counting at `1` because `0` is just for the padding\n",
    "for word_num in range(1, vocab_size):\n",
    "\n",
    "    # Get the word associated at the current index\n",
    "    word_name = reverse_word_index[word_num]\n",
    "\n",
    "    # Get the embedding weights associated with the current index\n",
    "    word_embedding = embedding_weights[word_num]\n",
    "\n",
    "    # Write the word name\n",
    "    out_m.write(word_name + \"\\n\")\n",
    "\n",
    "    # Write the word embedding\n",
    "    out_v.write(\"\\t\".join([str(x) for x in word_embedding]) + \"\\n\")\n",
    "\n",
    "# Close the files\n",
    "out_v.close()\n",
    "out_m.close()"
   ]
  },
  {
   "cell_type": "markdown",
   "metadata": {
    "id": "3t92Osu3u8Qh"
   },
   "source": [
    "When running this on Colab, you can run the code below to download the files. Otherwise, you can see the files in your current working directory and download it manually.\n"
   ]
  },
  {
   "cell_type": "code",
   "execution_count": null,
   "metadata": {
    "id": "VDeqpOCVydtq"
   },
   "outputs": [],
   "source": [
    "# Import files utilities in Colab\n",
    "try:\n",
    "    from google.colab import files\n",
    "except ImportError:\n",
    "    pass\n",
    "\n",
    "# Download the files\n",
    "else:\n",
    "    files.download(\"vecs.tsv\")\n",
    "    files.download(\"meta.tsv\")"
   ]
  },
  {
   "cell_type": "markdown",
   "metadata": {
    "id": "TRV8ag3nyAOb"
   },
   "source": [
    "Now you can go to the [Tensorflow Embedding Projector](https://projector.tensorflow.org/) and load the two files you downloaded to see the visualization. You can search for words like `worst` and `fantastic` and see the other words closely located to these."
   ]
  },
  {
   "cell_type": "markdown",
   "metadata": {
    "id": "4GOiu0WHzMzk"
   },
   "source": [
    "## Wrap Up\n",
    "\n",
    "In this lab, you were able build a simple sentiment classification model and train it on preprocessed text data. In the next lessons, you will revisit the Sarcasm Dataset you used in Week 1 and build a model to train on it."
   ]
  }
 ],
 "metadata": {
  "colab": {
   "collapsed_sections": [],
   "name": "C3_W2_Lab_1_imdb.ipynb",
   "private_outputs": true,
   "provenance": []
  },
  "kernelspec": {
   "display_name": "tf_py38",
   "language": "python",
   "name": "tf_py38"
  },
  "language_info": {
   "codemirror_mode": {
    "name": "ipython",
    "version": 3
   },
   "file_extension": ".py",
   "mimetype": "text/x-python",
   "name": "python",
   "nbconvert_exporter": "python",
   "pygments_lexer": "ipython3",
   "version": "3.8.13"
  }
 },
 "nbformat": 4,
 "nbformat_minor": 4
}
